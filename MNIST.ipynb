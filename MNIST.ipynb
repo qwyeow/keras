{
 "cells": [
  {
   "cell_type": "markdown",
   "metadata": {},
   "source": [
    "# Classifying hand-written digits"
   ]
  },
  {
   "cell_type": "markdown",
   "metadata": {},
   "source": [
    "The [MNIST](http://yann.lecun.com/exdb/mnist/) dataset is one of the oldest datasets around for machine learning, usually the one that most learners would work on as they foray into the field. Let's build a simple  Dense neural net to classify handwritten digits. Thereafter, we shall build a second model which is more sophisticated, a Convolutional Neural Network or convnet, to see if we can get better results.  \n",
    "  \n",
    "The MNIST dataset is already preloaded into Keras, making it very convenient for users to work with the dataset. Here we load *mnist* from *keras.datasets*"
   ]
  },
  {
   "cell_type": "code",
   "execution_count": 1,
   "metadata": {
    "nbpresent": {
     "id": "2a81ebfa-f718-4fdc-84be-70f961b60301"
    }
   },
   "outputs": [
    {
     "name": "stderr",
     "output_type": "stream",
     "text": [
      "Using TensorFlow backend.\n"
     ]
    }
   ],
   "source": [
    "from keras.datasets import mnist"
   ]
  },
  {
   "cell_type": "code",
   "execution_count": 2,
   "metadata": {
    "nbpresent": {
     "id": "bc40143d-fb1e-46a7-9879-8e201254b541"
    }
   },
   "outputs": [
    {
     "name": "stdout",
     "output_type": "stream",
     "text": [
      "Training input size: (60000, 28, 28)\n",
      "Training label size: (60000,)\n",
      "Test input size: (10000, 28, 28)\n",
      "Test label size: (10000,)\n"
     ]
    }
   ],
   "source": [
    "(training_input_origin, training_label_origin), (test_input_origin, test_label_origin) = mnist.load_data()\n",
    "\n",
    "print(\"Training input size:\", training_input_origin.shape)\n",
    "print(\"Training label size:\", training_label_origin.shape)\n",
    "print(\"Test input size:\", test_input_origin.shape)\n",
    "print(\"Test label size:\", test_label_origin.shape)"
   ]
  },
  {
   "cell_type": "markdown",
   "metadata": {},
   "source": [
    "There are 60,000 sets of training data. The inputs consist of images of size 28X28 pixels, each looking like a handwritten digit. Each input has a corresponding label that reveals the actual TRUE label. Another 10,000 sets of data are set aside for testing, so that we can use them to evaluate how accurate our neural network is after it's been trained.  \n",
    "  \n",
    "Below is a glimpse of handwritten digit images.  "
   ]
  },
  {
   "cell_type": "markdown",
   "metadata": {},
   "source": [
    "![alt text](https://cdn-images-1.medium.com/max/1600/1*yBdJCRwIJGoM7pwU-LNW6Q.png \"MNIST\")"
   ]
  },
  {
   "cell_type": "markdown",
   "metadata": {},
   "source": [
    "Next we flatten the 28X28 pixels into a single row of size 784 (= 28X28).THis is because our simple Neural Network only accepts 1D tensors as input. Note that  \n",
    "`training_input_origin.shape[0]` = 60000  \n",
    "`training_input_origin.shape[1]` = 28  \n",
    "`training_input_origin.shape[2]` = 28  "
   ]
  },
  {
   "cell_type": "code",
   "execution_count": 3,
   "metadata": {
    "nbpresent": {
     "id": "75661922-933c-40ce-b5d8-3d6b2b7872fc"
    }
   },
   "outputs": [
    {
     "name": "stdout",
     "output_type": "stream",
     "text": [
      "The shape of each training input is 784\n"
     ]
    }
   ],
   "source": [
    "unrolled_shape = training_input_origin.shape[1]*training_input_origin.shape[2]\n",
    "print(\"The shape of each training input is\", unrolled_shape)"
   ]
  },
  {
   "cell_type": "markdown",
   "metadata": {},
   "source": [
    "When training a \n",
    "Each pixel has a max value of 255, so we normalize the training and test inputs by dividing them by 255."
   ]
  },
  {
   "cell_type": "code",
   "execution_count": 4,
   "metadata": {
    "nbpresent": {
     "id": "1396220a-16a6-473b-9da3-54b91357a1b5"
    }
   },
   "outputs": [],
   "source": [
    "import numpy as np\n",
    "\n",
    "training_input = training_input_origin.reshape(60000, unrolled_shape).astype('float32')\n",
    "training_input /= 255\n",
    "\n",
    "test_input = test_input_origin.reshape(10000, unrolled_shape).astype('float32')\n",
    "test_input /=255"
   ]
  },
  {
   "cell_type": "markdown",
   "metadata": {},
   "source": [
    "We also convert the labels into one-hot variables. There will be 10 classes."
   ]
  },
  {
   "cell_type": "code",
   "execution_count": 5,
   "metadata": {
    "nbpresent": {
     "id": "6223d8d0-8aaa-4c7b-9c93-65edbcdc16bf"
    }
   },
   "outputs": [
    {
     "name": "stdout",
     "output_type": "stream",
     "text": [
      " The first 4 training labels [5 0 4 1] \n",
      " becomes \n",
      " [[0. 0. 0. 0. 0. 1. 0. 0. 0. 0.]\n",
      " [1. 0. 0. 0. 0. 0. 0. 0. 0. 0.]\n",
      " [0. 0. 0. 0. 1. 0. 0. 0. 0. 0.]\n",
      " [0. 1. 0. 0. 0. 0. 0. 0. 0. 0.]]\n"
     ]
    }
   ],
   "source": [
    "from keras.utils import to_categorical\n",
    "\n",
    "training_label = to_categorical(training_label_origin,num_classes=10)\n",
    "test_label = to_categorical(test_label_origin,num_classes= 10)\n",
    "print(\" The first 4 training labels\", training_label_origin[0:4], \"\\n\", \"becomes\",\"\\n\", training_label[0:4])"
   ]
  },
  {
   "cell_type": "markdown",
   "metadata": {},
   "source": [
    "### 1) Dense Net"
   ]
  },
  {
   "cell_type": "markdown",
   "metadata": {},
   "source": [
    "Next, we build a single-hidden-layer DenseNet with 512 nodes in the first layer and 10 nodes in the second layer."
   ]
  },
  {
   "cell_type": "code",
   "execution_count": 6,
   "metadata": {
    "nbpresent": {
     "id": "1679e2e2-a45c-4d8d-b575-8d97c8d6fa17"
    }
   },
   "outputs": [
    {
     "name": "stdout",
     "output_type": "stream",
     "text": [
      "_________________________________________________________________\n",
      "Layer (type)                 Output Shape              Param #   \n",
      "=================================================================\n",
      "dense_1 (Dense)              (None, 512)               401920    \n",
      "_________________________________________________________________\n",
      "dense_2 (Dense)              (None, 10)                5130      \n",
      "=================================================================\n",
      "Total params: 407,050\n",
      "Trainable params: 407,050\n",
      "Non-trainable params: 0\n",
      "_________________________________________________________________\n"
     ]
    }
   ],
   "source": [
    "from keras.models import Sequential\n",
    "from keras.layers import Dense\n",
    "\n",
    "model = Sequential()\n",
    "model.add(Dense(512,activation = \"relu\", input_shape = (unrolled_shape,)))\n",
    "model.add(Dense(10, activation = \"softmax\"))\n",
    "model.summary()"
   ]
  },
  {
   "cell_type": "markdown",
   "metadata": {
    "nbpresent": {
     "id": "6e869671-d091-42ad-a19d-eaae7430184e"
    }
   },
   "source": [
    "Next, compile the model by specifiying loss to be [categorical cross entropy](http://ml-cheatsheet.readthedocs.io/en/latest/loss_functions.html#cross-entropy)."
   ]
  },
  {
   "cell_type": "code",
   "execution_count": 7,
   "metadata": {
    "nbpresent": {
     "id": "5ac758a7-ba2f-482d-bf22-fc5354501e46"
    }
   },
   "outputs": [],
   "source": [
    "model.compile(loss = \"categorical_crossentropy\",\n",
    "             metrics = [\"accuracy\"],\n",
    "             optimizer = \"rmsprop\")"
   ]
  },
  {
   "cell_type": "markdown",
   "metadata": {},
   "source": [
    "Let's train the model for just 12 epochs."
   ]
  },
  {
   "cell_type": "code",
   "execution_count": 8,
   "metadata": {
    "nbpresent": {
     "id": "41e250c1-4f8c-4b0e-9131-807317437b99"
    }
   },
   "outputs": [
    {
     "name": "stdout",
     "output_type": "stream",
     "text": [
      "Train on 51000 samples, validate on 9000 samples\n",
      "Epoch 1/12\n",
      "51000/51000 [==============================] - 2s 46us/step - loss: 0.2774 - acc: 0.9196 - val_loss: 0.1371 - val_acc: 0.9622\n",
      "Epoch 2/12\n",
      "51000/51000 [==============================] - 2s 44us/step - loss: 0.1131 - acc: 0.9664 - val_loss: 0.0955 - val_acc: 0.9736\n",
      "Epoch 3/12\n",
      "51000/51000 [==============================] - 2s 44us/step - loss: 0.0755 - acc: 0.9776 - val_loss: 0.0802 - val_acc: 0.9770\n",
      "Epoch 4/12\n",
      "51000/51000 [==============================] - 2s 44us/step - loss: 0.0541 - acc: 0.9837 - val_loss: 0.0777 - val_acc: 0.9788\n",
      "Epoch 5/12\n",
      "51000/51000 [==============================] - 2s 44us/step - loss: 0.0398 - acc: 0.9879 - val_loss: 0.0817 - val_acc: 0.9748\n",
      "Epoch 6/12\n",
      "51000/51000 [==============================] - ETA: 0s - loss: 0.0307 - acc: 0.991 - 2s 44us/step - loss: 0.0307 - acc: 0.9915 - val_loss: 0.0665 - val_acc: 0.9823\n",
      "Epoch 7/12\n",
      "51000/51000 [==============================] - 2s 45us/step - loss: 0.0235 - acc: 0.9927 - val_loss: 0.0749 - val_acc: 0.9799\n",
      "Epoch 8/12\n",
      "51000/51000 [==============================] - 2s 45us/step - loss: 0.0175 - acc: 0.9951 - val_loss: 0.0723 - val_acc: 0.9808\n",
      "Epoch 9/12\n",
      "51000/51000 [==============================] - 2s 46us/step - loss: 0.0136 - acc: 0.9962 - val_loss: 0.0818 - val_acc: 0.9794\n",
      "Epoch 10/12\n",
      "51000/51000 [==============================] - 2s 45us/step - loss: 0.0106 - acc: 0.9971 - val_loss: 0.0762 - val_acc: 0.9811\n",
      "Epoch 11/12\n",
      "51000/51000 [==============================] - 2s 45us/step - loss: 0.0077 - acc: 0.9980 - val_loss: 0.0828 - val_acc: 0.9808\n",
      "Epoch 12/12\n",
      "51000/51000 [==============================] - 2s 45us/step - loss: 0.0057 - acc: 0.9985 - val_loss: 0.0882 - val_acc: 0.9809\n"
     ]
    }
   ],
   "source": [
    "history = model.fit(training_input, training_label, \n",
    "                    batch_size = 128, epochs = 12,\n",
    "                   validation_split = 0.15)"
   ]
  },
  {
   "cell_type": "markdown",
   "metadata": {},
   "source": [
    "Let's plot our loss and accuracy to check for any sign of overfitting."
   ]
  },
  {
   "cell_type": "code",
   "execution_count": 17,
   "metadata": {
    "nbpresent": {
     "id": "053d0fb0-041a-4f61-a2bf-fb8da55988b6"
    }
   },
   "outputs": [],
   "source": [
    "val_loss = history.history['val_loss']\n",
    "loss = history.history['loss']\n",
    "val_acc = history.history['val_acc']\n",
    "acc = history.history['acc']\n",
    "epochs = range(1,len(val_loss)+1)"
   ]
  },
  {
   "cell_type": "code",
   "execution_count": 18,
   "metadata": {
    "nbpresent": {
     "id": "2ff5d1f0-1e95-4be5-8b0b-8a774190ee5d"
    }
   },
   "outputs": [
    {
     "data": {
      "text/plain": [
       "Text(0.5,1,'Training vs Validation Loss')"
      ]
     },
     "execution_count": 18,
     "metadata": {},
     "output_type": "execute_result"
    },
    {
     "data": {
      "image/png": "[encoded data removed]",
      "text/plain": [
       "<Figure size 432x288 with 1 Axes>"
      ]
     },
     "metadata": {},
     "output_type": "display_data"
    }
   ],
   "source": [
    "plt.plot(epochs, val_loss, label = \"Validation loss\")\n",
    "plt.plot(epochs, loss, label = \"Training loss\")\n",
    "plt.legend()\n",
    "plt.xlabel(\"Epochs\")\n",
    "plt.ylabel(\"Loss\")\n",
    "plt.title(\"Training vs Validation Loss\")"
   ]
  },
  {
   "cell_type": "markdown",
   "metadata": {},
   "source": [
    "Seems like the validation loss stagnated after the 3rd epoch."
   ]
  },
  {
   "cell_type": "code",
   "execution_count": 19,
   "metadata": {
    "nbpresent": {
     "id": "2834d207-18fb-44f0-a4b1-2c2e10a7c223"
    }
   },
   "outputs": [
    {
     "data": {
      "text/plain": [
       "Text(0.5,1,'Training vs Validation Accuracy')"
      ]
     },
     "execution_count": 19,
     "metadata": {},
     "output_type": "execute_result"
    },
    {
     "data": {
      "image/png": "[encoded data removed]",
      "text/plain": [
       "<Figure size 432x288 with 1 Axes>"
      ]
     },
     "metadata": {},
     "output_type": "display_data"
    }
   ],
   "source": [
    "plt.plot(epochs, val_acc, label = \"Validation loss\")\n",
    "plt.plot(epochs, acc, label = \"Training loss\")\n",
    "plt.legend()\n",
    "plt.xlabel(\"Epochs\")\n",
    "plt.ylabel(\"Accuracy\")\n",
    "plt.title(\"Training vs Validation Accuracy\")\n"
   ]
  },
  {
   "cell_type": "markdown",
   "metadata": {},
   "source": [
    "Validation accuracy also hovered around 98% after the 3rd epochs. However, both accuracy and loss just stagnate, rather than deteriorate as the number of epochs increase."
   ]
  },
  {
   "cell_type": "markdown",
   "metadata": {},
   "source": [
    "Let's evaluate the DenseNet on test data."
   ]
  },
  {
   "cell_type": "code",
   "execution_count": 32,
   "metadata": {},
   "outputs": [
    {
     "name": "stdout",
     "output_type": "stream",
     "text": [
      "10000/10000 [==============================] - 0s 31us/step\n",
      "Loss on test set: 0.0776928879627114\n",
      "Accuracy on test set: 0.9814\n"
     ]
    }
   ],
   "source": [
    "result = model.evaluate(test_input, test_label)\n",
    "print(\"Loss on test set:\", result[0])\n",
    "print(\"Accuracy on test set:\", result[1])"
   ]
  },
  {
   "cell_type": "markdown",
   "metadata": {},
   "source": [
    "The model was able to classify 98% of the test data correctly.    "
   ]
  },
  {
   "cell_type": "markdown",
   "metadata": {},
   "source": [
    "Let's identify all the wrong predictions.\n"
   ]
  },
  {
   "cell_type": "code",
   "execution_count": 33,
   "metadata": {},
   "outputs": [
    {
     "name": "stdout",
     "output_type": "stream",
     "text": [
      "The first 10 wrong predictions came from the following index [119 247 321 340 445 578 582 619 659 684]\n"
     ]
    }
   ],
   "source": [
    "preds = np.argmax(model.predict(test_input),axis = 1)\n",
    "wrong_preds = np.where((preds != test_label_origin) == True)\n",
    "print(\"The first 10 wrong predictions came from the following index {}\".format(wrong_preds[0][:10]))"
   ]
  },
  {
   "cell_type": "markdown",
   "metadata": {},
   "source": [
    "We can do a visual inspection of those wrongly classified."
   ]
  },
  {
   "cell_type": "code",
   "execution_count": 22,
   "metadata": {},
   "outputs": [
    {
     "data": {
      "image/png": "[encoded data removed]",
      "text/plain": [
       "<Figure size 432x288 with 1 Axes>"
      ]
     },
     "metadata": {},
     "output_type": "display_data"
    },
    {
     "data": {
      "image/png": "[encoded data removed]",
      "text/plain": [
       "<Figure size 432x288 with 1 Axes>"
      ]
     },
     "metadata": {},
     "output_type": "display_data"
    },
    {
     "data": {
      "image/png": "[encoded data removed]",
      "text/plain": [
       "<Figure size 432x288 with 1 Axes>"
      ]
     },
     "metadata": {},
     "output_type": "display_data"
    },
    {
     "data": {
      "image/png": "[encoded data removed]",
      "text/plain": [
       "<Figure size 432x288 with 1 Axes>"
      ]
     },
     "metadata": {},
     "output_type": "display_data"
    },
    {
     "data": {
      "image/png": "[encoded data removed]",
      "text/plain": [
       "<Figure size 432x288 with 1 Axes>"
      ]
     },
     "metadata": {},
     "output_type": "display_data"
    }
   ],
   "source": [
    "def Get_wrong_prediction(wrong_preds,number):\n",
    "    return np.random.choice(wrong_preds[0],number, replace = False)\n",
    "\n",
    "plt.clf()\n",
    "for pic in Get_wrong_prediction(wrong_preds,5):\n",
    "    plt.imshow(test_input_origin[pic], cmap = plt.cm.binary)\n",
    "    plt.title(\"Prediction was \"+ str(preds[pic]) + \" but label was \"+ str(test_label_origin[pic]))\n",
    "    plt.show()"
   ]
  },
  {
   "cell_type": "markdown",
   "metadata": {},
   "source": [
    "## 2) Convnet"
   ]
  },
  {
   "cell_type": "markdown",
   "metadata": {},
   "source": [
    "Next we build a Convnet. It's much more complex than DenseNet, but has been shown to give good results in computer vision."
   ]
  },
  {
   "cell_type": "code",
   "execution_count": 23,
   "metadata": {},
   "outputs": [],
   "source": [
    "from keras import layers\n",
    "from keras import models"
   ]
  },
  {
   "cell_type": "code",
   "execution_count": 24,
   "metadata": {},
   "outputs": [
    {
     "name": "stdout",
     "output_type": "stream",
     "text": [
      "_________________________________________________________________\n",
      "Layer (type)                 Output Shape              Param #   \n",
      "=================================================================\n",
      "conv2d_1 (Conv2D)            (None, 26, 26, 32)        320       \n",
      "_________________________________________________________________\n",
      "max_pooling2d_1 (MaxPooling2 (None, 13, 13, 32)        0         \n",
      "_________________________________________________________________\n",
      "conv2d_2 (Conv2D)            (None, 11, 11, 64)        18496     \n",
      "_________________________________________________________________\n",
      "max_pooling2d_2 (MaxPooling2 (None, 5, 5, 64)          0         \n",
      "_________________________________________________________________\n",
      "flatten_1 (Flatten)          (None, 1600)              0         \n",
      "_________________________________________________________________\n",
      "dense_3 (Dense)              (None, 64)                102464    \n",
      "_________________________________________________________________\n",
      "dense_4 (Dense)              (None, 10)                650       \n",
      "=================================================================\n",
      "Total params: 121,930\n",
      "Trainable params: 121,930\n",
      "Non-trainable params: 0\n",
      "_________________________________________________________________\n"
     ]
    }
   ],
   "source": [
    "model1 = models.Sequential()\n",
    "model1.add(layers.Conv2D(32,(3,3),\n",
    "                        activation = 'relu',\n",
    "                        input_shape = (28,28,1)))\n",
    "model1.add(layers.MaxPooling2D((2,2)))\n",
    "model1.add(layers.Conv2D(64, (3,3),\n",
    "                        activation = 'relu'))\n",
    "model1.add(layers.MaxPooling2D((2,2)))\n",
    "model1.add(layers.Flatten())\n",
    "model1.add(layers.Dense(64, activation = 'relu'))\n",
    "model1.add(layers.Dense(10, activation = 'softmax'))\n",
    "model1.summary()"
   ]
  },
  {
   "cell_type": "code",
   "execution_count": 25,
   "metadata": {},
   "outputs": [],
   "source": [
    "model1.compile(loss = \"categorical_crossentropy\",\n",
    "             metrics = [\"accuracy\"],\n",
    "             optimizer = \"rmsprop\")"
   ]
  },
  {
   "cell_type": "markdown",
   "metadata": {},
   "source": [
    "Different from the 1D tensor fed into Densenet, inputs for convnet will be a 3D tensor. Let's reshape the inputs  "
   ]
  },
  {
   "cell_type": "code",
   "execution_count": 26,
   "metadata": {},
   "outputs": [],
   "source": [
    "training_input1 = training_input_origin.reshape((60000, 28, 28,1)).astype('float32')\n",
    "training_input1 /=255\n",
    "\n",
    "test_input1 = test_input_origin.reshape(((10000, 28, 28,1))).astype('float32')\n",
    "test_input1 /= 255"
   ]
  },
  {
   "cell_type": "markdown",
   "metadata": {},
   "source": [
    "We'll train the convnet for 12 epochs as well."
   ]
  },
  {
   "cell_type": "code",
   "execution_count": 27,
   "metadata": {},
   "outputs": [
    {
     "name": "stdout",
     "output_type": "stream",
     "text": [
      "Train on 51000 samples, validate on 9000 samples\n",
      "Epoch 1/12\n",
      "51000/51000 [==============================] - 16s 322us/step - loss: 0.2693 - acc: 0.9173 - val_loss: 0.1026 - val_acc: 0.9702\n",
      "Epoch 2/12\n",
      "51000/51000 [==============================] - 16s 320us/step - loss: 0.0699 - acc: 0.9782 - val_loss: 0.0843 - val_acc: 0.9758\n",
      "Epoch 3/12\n",
      "51000/51000 [==============================] - 16s 313us/step - loss: 0.0455 - acc: 0.9853 - val_loss: 0.0611 - val_acc: 0.9831\n",
      "Epoch 4/12\n",
      "51000/51000 [==============================] - 17s 325us/step - loss: 0.0341 - acc: 0.9894 - val_loss: 0.0490 - val_acc: 0.9863\n",
      "Epoch 5/12\n",
      "51000/51000 [==============================] - 16s 307us/step - loss: 0.0263 - acc: 0.9918 - val_loss: 0.0502 - val_acc: 0.9857\n",
      "Epoch 6/12\n",
      "51000/51000 [==============================] - 16s 305us/step - loss: 0.0209 - acc: 0.9935 - val_loss: 0.0408 - val_acc: 0.9897\n",
      "Epoch 7/12\n",
      "51000/51000 [==============================] - 16s 317us/step - loss: 0.0175 - acc: 0.9946 - val_loss: 0.0458 - val_acc: 0.9877\n",
      "Epoch 8/12\n",
      "51000/51000 [==============================] - 16s 319us/step - loss: 0.0139 - acc: 0.9958 - val_loss: 0.0438 - val_acc: 0.9887\n",
      "Epoch 9/12\n",
      "51000/51000 [==============================] - 16s 319us/step - loss: 0.0109 - acc: 0.9965 - val_loss: 0.0412 - val_acc: 0.9908\n",
      "Epoch 10/12\n",
      "51000/51000 [==============================] - 16s 317us/step - loss: 0.0087 - acc: 0.9969 - val_loss: 0.0527 - val_acc: 0.9891\n",
      "Epoch 11/12\n",
      "51000/51000 [==============================] - 16s 319us/step - loss: 0.0069 - acc: 0.9976 - val_loss: 0.0527 - val_acc: 0.9887\n",
      "Epoch 12/12\n",
      "51000/51000 [==============================] - 16s 316us/step - loss: 0.0056 - acc: 0.9984 - val_loss: 0.0499 - val_acc: 0.9909\n"
     ]
    }
   ],
   "source": [
    "history1 = model1.fit(training_input1, training_label, \n",
    "                    batch_size = 128, epochs = 12,\n",
    "                   validation_split = 0.15)"
   ]
  },
  {
   "cell_type": "markdown",
   "metadata": {},
   "source": [
    "Plot the loss and accuracy to check for signs of overfitting."
   ]
  },
  {
   "cell_type": "code",
   "execution_count": 28,
   "metadata": {},
   "outputs": [],
   "source": [
    "val_loss = history1.history['val_loss']\n",
    "loss = history1.history['loss']\n",
    "val_acc = history1.history['val_acc']\n",
    "acc = history1.history['acc']\n",
    "epochs = range(1,len(val_loss)+1)"
   ]
  },
  {
   "cell_type": "code",
   "execution_count": 29,
   "metadata": {},
   "outputs": [
    {
     "data": {
      "text/plain": [
       "Text(0.5,1,'Training vs Validation Loss')"
      ]
     },
     "execution_count": 29,
     "metadata": {},
     "output_type": "execute_result"
    },
    {
     "data": {
      "image/png": "[encoded data removed]",
      "text/plain": [
       "<Figure size 432x288 with 1 Axes>"
      ]
     },
     "metadata": {},
     "output_type": "display_data"
    }
   ],
   "source": [
    "import matplotlib.pyplot as plt\n",
    "\n",
    "plt.plot(epochs, val_loss, label = \"Validation loss\")\n",
    "plt.plot(epochs, loss, label = \"Training loss\")\n",
    "plt.legend()\n",
    "plt.xlabel(\"Epochs\")\n",
    "plt.ylabel(\"Loss\")\n",
    "plt.title(\"Training vs Validation Loss\")"
   ]
  },
  {
   "cell_type": "code",
   "execution_count": 30,
   "metadata": {},
   "outputs": [
    {
     "data": {
      "text/plain": [
       "Text(0.5,1,'Training vs Validation Accuracy')"
      ]
     },
     "execution_count": 30,
     "metadata": {},
     "output_type": "execute_result"
    },
    {
     "data": {
      "image/png": "[encoded data removed]",
      "text/plain": [
       "<Figure size 432x288 with 1 Axes>"
      ]
     },
     "metadata": {},
     "output_type": "display_data"
    }
   ],
   "source": [
    "plt.plot(epochs, val_acc, label = \"Validation loss\")\n",
    "plt.plot(epochs, acc, label = \"Training loss\")\n",
    "plt.legend()\n",
    "plt.xlabel(\"Epochs\")\n",
    "plt.ylabel(\"Accuracy\")\n",
    "plt.title(\"Training vs Validation Accuracy\")"
   ]
  },
  {
   "cell_type": "markdown",
   "metadata": {},
   "source": [
    "Let's evaluate convnet on the test data."
   ]
  },
  {
   "cell_type": "code",
   "execution_count": 34,
   "metadata": {},
   "outputs": [
    {
     "name": "stdout",
     "output_type": "stream",
     "text": [
      "10000/10000 [==============================] - 1s 124us/step\n",
      "Loss on test set: 0.04367553985681575\n",
      "Accuracy on test set: 0.9896\n"
     ]
    }
   ],
   "source": [
    "result1 = model1.evaluate(test_input1, test_label)\n",
    "print(\"Loss on test set:\", result1[0])\n",
    "print(\"Accuracy on test set:\", result1[1])"
   ]
  },
  {
   "cell_type": "markdown",
   "metadata": {},
   "source": [
    "The convnet model has an accuracy of 99% and loss of 0.043. Let's compare the two models."
   ]
  },
  {
   "cell_type": "markdown",
   "metadata": {},
   "source": [
    "| Model        |  Loss           |Accuracy  |\n",
    "| ------------- |-------------| -----|\n",
    "| DenseNet      | 0.0776 | 0.9814 |\n",
    "| ConvNet       | 0.043      |   0.9896 |\n"
   ]
  },
  {
   "cell_type": "markdown",
   "metadata": {},
   "source": [
    "Check where convnet made mistakes on the test data."
   ]
  },
  {
   "cell_type": "code",
   "execution_count": 37,
   "metadata": {},
   "outputs": [
    {
     "name": "stdout",
     "output_type": "stream",
     "text": [
      "The first 10 wrong predictions came from the following index [ 320  340  445  646  659  674  882  947 1014 1039]\n"
     ]
    }
   ],
   "source": [
    "preds1 = np.argmax(model1.predict(test_input1),axis = 1)\n",
    "wrong_preds1 = np.where((preds1 != test_label_origin) == True)\n",
    "print(\"The first 10 wrong predictions came from the following index {}\".format(wrong_preds1[0][:10]))"
   ]
  },
  {
   "cell_type": "code",
   "execution_count": 36,
   "metadata": {},
   "outputs": [
    {
     "data": {
      "image/png": "[encoded data removed]",
      "text/plain": [
       "<Figure size 432x288 with 1 Axes>"
      ]
     },
     "metadata": {},
     "output_type": "display_data"
    },
    {
     "data": {
      "image/png": "[encoded data removed]",
      "text/plain": [
       "<Figure size 432x288 with 1 Axes>"
      ]
     },
     "metadata": {},
     "output_type": "display_data"
    },
    {
     "data": {
      "image/png": "[encoded data removed]",
      "text/plain": [
       "<Figure size 432x288 with 1 Axes>"
      ]
     },
     "metadata": {},
     "output_type": "display_data"
    },
    {
     "data": {
      "image/png": "[encoded data removed]",
      "text/plain": [
       "<Figure size 432x288 with 1 Axes>"
      ]
     },
     "metadata": {},
     "output_type": "display_data"
    },
    {
     "data": {
      "image/png": "[encoded data removed]",
      "text/plain": [
       "<Figure size 432x288 with 1 Axes>"
      ]
     },
     "metadata": {},
     "output_type": "display_data"
    }
   ],
   "source": [
    "def Get_wrong_prediction(wrong_preds,number):\n",
    "    return np.random.choice(wrong_preds[0],number, replace = False)\n",
    "\n",
    "plt.clf()\n",
    "for pic in Get_wrong_prediction(wrong_preds1,5):\n",
    "    plt.imshow(test_input_origin[pic], cmap = plt.cm.binary)\n",
    "    plt.title(\"Prediction was \"+ str(preds[pic]) + \" but label was \"+ str(test_label_origin[pic]))\n",
    "    plt.show()"
   ]
  },
  {
   "cell_type": "markdown",
   "metadata": {},
   "source": [
    "Reference:  \n",
    "  \n",
    "  \n",
    "1) Deep Learning with Python - Francois Chollet  \n",
    "2) Deep Learning with Keras - Antonio Gulli, Sujit Pal  \n",
    "3) [Fastai lesson 1](http://course.fast.ai/lessons/lesson1.html)"
   ]
  }
 ],
 "metadata": {
  "kernelspec": {
   "display_name": "Python 3",
   "language": "python",
   "name": "python3"
  },
  "language_info": {
   "codemirror_mode": {
    "name": "ipython",
    "version": 3
   },
   "file_extension": ".py",
   "mimetype": "text/x-python",
   "name": "python",
   "nbconvert_exporter": "python",
   "pygments_lexer": "ipython3",
   "version": "3.6.5"
  },
  "nbpresent": {
   "slides": {
    "0e66334a-83d6-43c1-bcaa-bf476eca0ab8": {
     "id": "0e66334a-83d6-43c1-bcaa-bf476eca0ab8",
     "prev": "54d6b929-de74-446f-9728-901f8a2fa792",
     "regions": {
      "3249e72b-2aa7-4c90-b232-3743a5e288ff": {
       "attrs": {
        "height": 0.8,
        "width": 0.8,
        "x": 0.1,
        "y": 0.1
       },
       "content": {
        "cell": "9f5d7b15-8c3e-4302-8703-0b7748d6fd1b",
        "part": "whole"
       },
       "id": "3249e72b-2aa7-4c90-b232-3743a5e288ff"
      }
     }
    },
    "12864c65-10af-48f2-a9cc-c8298578fa25": {
     "id": "12864c65-10af-48f2-a9cc-c8298578fa25",
     "prev": "6d976d2a-1abd-4903-89f5-5d6c66bb1129",
     "regions": {
      "637bf43a-359c-43ba-8ba5-e010877fda9f": {
       "attrs": {
        "height": 0.8,
        "width": 0.8,
        "x": 0.1,
        "y": 0.1
       },
       "content": {
        "cell": "6e869671-d091-42ad-a19d-eaae7430184e",
        "part": "whole"
       },
       "id": "637bf43a-359c-43ba-8ba5-e010877fda9f"
      }
     }
    },
    "15c8840b-b31a-445e-96ef-80f66a03a3ef": {
     "id": "15c8840b-b31a-445e-96ef-80f66a03a3ef",
     "prev": "acfcf3ee-6880-461e-9875-a9d06380d693",
     "regions": {
      "2a7a0440-3c38-4e61-a74c-6cff9b97a60a": {
       "attrs": {
        "height": 0.8,
        "width": 0.8,
        "x": 0.1,
        "y": 0.1
       },
       "content": {
        "cell": "75661922-933c-40ce-b5d8-3d6b2b7872fc",
        "part": "whole"
       },
       "id": "2a7a0440-3c38-4e61-a74c-6cff9b97a60a"
      }
     }
    },
    "17452c77-d21a-4ddf-b7f9-127c5344ac48": {
     "id": "17452c77-d21a-4ddf-b7f9-127c5344ac48",
     "prev": "9e7a31ff-ddbd-4fb6-9438-ece87e9693b2",
     "regions": {
      "c142c249-6222-4349-b9fa-7ed30a116c7e": {
       "attrs": {
        "height": 0.8,
        "width": 0.8,
        "x": 0.1,
        "y": 0.1
       },
       "content": {
        "cell": "efec20ef-8d05-4a28-a4d4-1f5cd89cfdcd",
        "part": "whole"
       },
       "id": "c142c249-6222-4349-b9fa-7ed30a116c7e"
      }
     }
    },
    "1e6c4f4a-6246-4b42-ba08-d1fc01a1d07c": {
     "id": "1e6c4f4a-6246-4b42-ba08-d1fc01a1d07c",
     "prev": "d63ba3ca-8fca-44c2-be5b-cb56b131dea1",
     "regions": {
      "8631d079-2041-4b75-9e69-80c07da1e0f5": {
       "attrs": {
        "height": 0.8,
        "width": 0.8,
        "x": 0.1,
        "y": 0.1
       },
       "content": {
        "cell": "bc40143d-fb1e-46a7-9879-8e201254b541",
        "part": "whole"
       },
       "id": "8631d079-2041-4b75-9e69-80c07da1e0f5"
      }
     }
    },
    "385b89ef-1198-4412-9b13-dd1d002bc003": {
     "id": "385b89ef-1198-4412-9b13-dd1d002bc003",
     "prev": "59ba7c4e-74ec-453e-b461-d698194b2cde",
     "regions": {
      "a951f314-fd6d-40b4-a7f7-0d61cb00f390": {
       "attrs": {
        "height": 0.8,
        "width": 0.8,
        "x": 0.1,
        "y": 0.1
       },
       "content": {
        "cell": "fa91adca-71aa-4a0d-b90d-2f7fc5c4e8e6",
        "part": "whole"
       },
       "id": "a951f314-fd6d-40b4-a7f7-0d61cb00f390"
      }
     }
    },
    "4525125c-be78-4a63-8f77-792a48ed874b": {
     "id": "4525125c-be78-4a63-8f77-792a48ed874b",
     "prev": "385b89ef-1198-4412-9b13-dd1d002bc003",
     "regions": {
      "0d3fcb86-43c3-4d11-8c3d-f04d36feba7c": {
       "attrs": {
        "height": 0.8,
        "width": 0.8,
        "x": 0.1,
        "y": 0.1
       },
       "content": {
        "cell": "053d0fb0-041a-4f61-a2bf-fb8da55988b6",
        "part": "whole"
       },
       "id": "0d3fcb86-43c3-4d11-8c3d-f04d36feba7c"
      }
     }
    },
    "511a9534-f5ff-4d0a-89ce-b4c0a2e18e69": {
     "id": "511a9534-f5ff-4d0a-89ce-b4c0a2e18e69",
     "prev": "12864c65-10af-48f2-a9cc-c8298578fa25",
     "regions": {
      "4e0d4ce9-614d-47fe-8669-28cdeee933f3": {
       "attrs": {
        "height": 0.8,
        "width": 0.8,
        "x": 0.1,
        "y": 0.1
       },
       "content": {
        "cell": "5ac758a7-ba2f-482d-bf22-fc5354501e46",
        "part": "whole"
       },
       "id": "4e0d4ce9-614d-47fe-8669-28cdeee933f3"
      }
     }
    },
    "54d6b929-de74-446f-9728-901f8a2fa792": {
     "id": "54d6b929-de74-446f-9728-901f8a2fa792",
     "prev": null,
     "regions": {
      "7ddfed5a-a891-458b-a061-96fdc48a1f86": {
       "attrs": {
        "height": 0.8,
        "width": 0.8,
        "x": 0.1,
        "y": 0.1
       },
       "content": {
        "cell": "5bc93179-5002-4b8f-be6c-3b74b7291a38",
        "part": "whole"
       },
       "id": "7ddfed5a-a891-458b-a061-96fdc48a1f86"
      }
     }
    },
    "59ba7c4e-74ec-453e-b461-d698194b2cde": {
     "id": "59ba7c4e-74ec-453e-b461-d698194b2cde",
     "prev": "511a9534-f5ff-4d0a-89ce-b4c0a2e18e69",
     "regions": {
      "6409471a-f0c1-4135-8620-1d5bdd596a75": {
       "attrs": {
        "height": 0.8,
        "width": 0.8,
        "x": 0.1,
        "y": 0.1
       },
       "content": {
        "cell": "41e250c1-4f8c-4b0e-9131-807317437b99",
        "part": "whole"
       },
       "id": "6409471a-f0c1-4135-8620-1d5bdd596a75"
      }
     }
    },
    "6d976d2a-1abd-4903-89f5-5d6c66bb1129": {
     "id": "6d976d2a-1abd-4903-89f5-5d6c66bb1129",
     "prev": "daf4b7eb-a650-4dc8-8527-0d80df56785b",
     "regions": {
      "aead523f-7642-4728-a8bb-c4cc59a8da0a": {
       "attrs": {
        "height": 0.8,
        "width": 0.8,
        "x": 0.1,
        "y": 0.1
       },
       "content": {
        "cell": "1679e2e2-a45c-4d8d-b575-8d97c8d6fa17",
        "part": "whole"
       },
       "id": "aead523f-7642-4728-a8bb-c4cc59a8da0a"
      }
     }
    },
    "8489339b-5f1e-44ea-8bab-aa329f4f5331": {
     "id": "8489339b-5f1e-44ea-8bab-aa329f4f5331",
     "prev": "a3eb18a3-9834-4e85-a921-1b62c2ed5c1f",
     "regions": {
      "75da9559-44ec-4b8a-a46c-523e53da6e39": {
       "attrs": {
        "height": 0.8,
        "width": 0.8,
        "x": 0.1,
        "y": 0.1
       },
       "content": {
        "cell": "6223d8d0-8aaa-4c7b-9c93-65edbcdc16bf",
        "part": "whole"
       },
       "id": "75da9559-44ec-4b8a-a46c-523e53da6e39"
      }
     }
    },
    "9e7a31ff-ddbd-4fb6-9438-ece87e9693b2": {
     "id": "9e7a31ff-ddbd-4fb6-9438-ece87e9693b2",
     "prev": "d0816cfb-ab6b-4705-8d57-155df3403ce8",
     "regions": {
      "4b36c582-0646-48e3-a1da-7c49e233d88f": {
       "attrs": {
        "height": 0.8,
        "width": 0.8,
        "x": 0.1,
        "y": 0.1
       },
       "content": {
        "cell": "2834d207-18fb-44f0-a4b1-2c2e10a7c223",
        "part": "whole"
       },
       "id": "4b36c582-0646-48e3-a1da-7c49e233d88f"
      }
     }
    },
    "a3eb18a3-9834-4e85-a921-1b62c2ed5c1f": {
     "id": "a3eb18a3-9834-4e85-a921-1b62c2ed5c1f",
     "prev": "15c8840b-b31a-445e-96ef-80f66a03a3ef",
     "regions": {
      "db62a5e7-847b-4fc8-8809-cc586ee04e3c": {
       "attrs": {
        "height": 0.8,
        "width": 0.8,
        "x": 0.1,
        "y": 0.1
       },
       "content": {
        "cell": "1396220a-16a6-473b-9da3-54b91357a1b5",
        "part": "whole"
       },
       "id": "db62a5e7-847b-4fc8-8809-cc586ee04e3c"
      }
     }
    },
    "acfcf3ee-6880-461e-9875-a9d06380d693": {
     "id": "acfcf3ee-6880-461e-9875-a9d06380d693",
     "prev": "1e6c4f4a-6246-4b42-ba08-d1fc01a1d07c",
     "regions": {
      "0cf80791-c7f4-4661-a090-2d3c887ecd7d": {
       "attrs": {
        "height": 0.8,
        "width": 0.8,
        "x": 0.1,
        "y": 0.1
       },
       "content": {
        "cell": "3d87840e-85cf-4933-87ec-4da2f58f6ee5",
        "part": "whole"
       },
       "id": "0cf80791-c7f4-4661-a090-2d3c887ecd7d"
      }
     }
    },
    "d0816cfb-ab6b-4705-8d57-155df3403ce8": {
     "id": "d0816cfb-ab6b-4705-8d57-155df3403ce8",
     "prev": "4525125c-be78-4a63-8f77-792a48ed874b",
     "regions": {
      "e73ffa51-860c-422e-a503-45dd9c6c56c5": {
       "attrs": {
        "height": 0.8,
        "width": 0.8,
        "x": 0.1,
        "y": 0.1
       },
       "content": {
        "cell": "2ff5d1f0-1e95-4be5-8b0b-8a774190ee5d",
        "part": "whole"
       },
       "id": "e73ffa51-860c-422e-a503-45dd9c6c56c5"
      }
     }
    },
    "d63ba3ca-8fca-44c2-be5b-cb56b131dea1": {
     "id": "d63ba3ca-8fca-44c2-be5b-cb56b131dea1",
     "prev": "0e66334a-83d6-43c1-bcaa-bf476eca0ab8",
     "regions": {
      "671dc7a1-bae1-4352-bb01-fbfd1f16abcd": {
       "attrs": {
        "height": 0.8,
        "width": 0.8,
        "x": 0.1,
        "y": 0.1
       },
       "content": {
        "cell": "2a81ebfa-f718-4fdc-84be-70f961b60301",
        "part": "whole"
       },
       "id": "671dc7a1-bae1-4352-bb01-fbfd1f16abcd"
      }
     }
    },
    "daf4b7eb-a650-4dc8-8527-0d80df56785b": {
     "id": "daf4b7eb-a650-4dc8-8527-0d80df56785b",
     "prev": "8489339b-5f1e-44ea-8bab-aa329f4f5331",
     "regions": {
      "d18e47e1-f6e5-47a5-acdf-eec04dc59a17": {
       "attrs": {
        "height": 0.8,
        "width": 0.8,
        "x": 0.1,
        "y": 0.1
       },
       "content": {
        "cell": "bd912a22-fb3c-4cf7-8981-500d34d81cfb",
        "part": "whole"
       },
       "id": "d18e47e1-f6e5-47a5-acdf-eec04dc59a17"
      }
     }
    }
   },
   "themes": {}
  }
 },
 "nbformat": 4,
 "nbformat_minor": 2
}
