{
 "cells": [
  {
   "cell_type": "markdown",
   "metadata": {},
   "source": [
    "# Multi-class Classification Using DenseNet"
   ]
  },
  {
   "cell_type": "markdown",
   "metadata": {},
   "source": [
    "Let's build a dense network for single-label, multi-class classification. The reuters dataset preloaded in keras has 46 labels.Each input sentence will fall under one of these labels."
   ]
  },
  {
   "cell_type": "code",
   "execution_count": 100,
   "metadata": {},
   "outputs": [],
   "source": [
    "from keras.datasets import reuters"
   ]
  },
  {
   "cell_type": "markdown",
   "metadata": {},
   "source": [
    "We'll limit the input sentences to the most frequent 10,000 words to get rid of rare words."
   ]
  },
  {
   "cell_type": "code",
   "execution_count": 45,
   "metadata": {},
   "outputs": [],
   "source": [
    "(training_input, training_label), (test_input, test_label) = reuters.load_data(num_words = 10000)"
   ]
  },
  {
   "cell_type": "markdown",
   "metadata": {},
   "source": [
    "Let's peek at the first 15 indices in the first training sentence."
   ]
  },
  {
   "cell_type": "code",
   "execution_count": 79,
   "metadata": {},
   "outputs": [
    {
     "name": "stdout",
     "output_type": "stream",
     "text": [
      "[1, 2, 2, 8, 43, 10, 447, 5, 25, 207, 270, 5, 3095, 111, 16]\n"
     ]
    }
   ],
   "source": [
    "example1 = training_input[0][:15]\n",
    "print(example1)"
   ]
  },
  {
   "cell_type": "markdown",
   "metadata": {},
   "source": [
    "This sentence falls under label 3."
   ]
  },
  {
   "cell_type": "code",
   "execution_count": 47,
   "metadata": {},
   "outputs": [
    {
     "data": {
      "text/plain": [
       "3"
      ]
     },
     "execution_count": 47,
     "metadata": {},
     "output_type": "execute_result"
    }
   ],
   "source": [
    "training_label[0]"
   ]
  },
  {
   "cell_type": "code",
   "execution_count": 52,
   "metadata": {},
   "outputs": [
    {
     "name": "stdout",
     "output_type": "stream",
     "text": [
      "There are 8982 training inputs and 8982 corresponding training labels.\n"
     ]
    }
   ],
   "source": [
    "print(\"There are {} training inputs and {} corresponding training labels.\".format(\n",
    "len(training_input), len(training_label)))"
   ]
  },
  {
   "cell_type": "code",
   "execution_count": 53,
   "metadata": {},
   "outputs": [
    {
     "name": "stdout",
     "output_type": "stream",
     "text": [
      "There are 2246 test inputs and 2246 corresponding test labels.\n"
     ]
    }
   ],
   "source": [
    "print(\"There are {} test inputs and {} corresponding test labels.\".format(\n",
    "len(test_input), len(test_label)))"
   ]
  },
  {
   "cell_type": "markdown",
   "metadata": {},
   "source": [
    "Let's take a look at the dictionary mapping words to index."
   ]
  },
  {
   "cell_type": "code",
   "execution_count": 55,
   "metadata": {},
   "outputs": [
    {
     "data": {
      "text/plain": [
       "[('mdbl', 10996),\n",
       " ('fawc', 16260),\n",
       " ('degussa', 12089),\n",
       " ('woods', 8803),\n",
       " ('hanging', 13796),\n",
       " ('localized', 20672),\n",
       " ('sation', 20673),\n",
       " ('chanthaburi', 20675),\n",
       " ('refunding', 10997),\n",
       " ('hermann', 8804),\n",
       " ('passsengers', 20676),\n",
       " ('stipulate', 20677),\n",
       " ('heublein', 8352),\n",
       " ('screaming', 20713),\n",
       " ('tcby', 16261)]"
      ]
     },
     "execution_count": 55,
     "metadata": {},
     "output_type": "execute_result"
    }
   ],
   "source": [
    "word2index = reuters.get_word_index()\n",
    "list(word2index.items())[:15]"
   ]
  },
  {
   "cell_type": "markdown",
   "metadata": {},
   "source": [
    "Create the reverse dictionary mapping from indices to words."
   ]
  },
  {
   "cell_type": "code",
   "execution_count": 56,
   "metadata": {},
   "outputs": [],
   "source": [
    "index2word = {j:i for i,j in word2index.items()}"
   ]
  },
  {
   "cell_type": "markdown",
   "metadata": {},
   "source": [
    "Let's use the reverse dictionary to convert the first input sentence to words."
   ]
  },
  {
   "cell_type": "code",
   "execution_count": 57,
   "metadata": {},
   "outputs": [
    {
     "data": {
      "text/plain": [
       "'? ? ? said as a result of its december acquisition of space co it expects earnings per share in 1987 of 1 15 to 1 30 dlrs per share up from 70 cts in 1986 the company said pretax net should rise to nine to 10 mln dlrs from six mln dlrs in 1986 and rental operation revenues to 19 to 22 mln dlrs from 12 5 mln dlrs it said cash flow per share this year should be 2 50 to three dlrs reuter 3'"
      ]
     },
     "execution_count": 57,
     "metadata": {},
     "output_type": "execute_result"
    }
   ],
   "source": [
    "\" \".join([index2word.get(word-3,'?') for word in training_input[0]])"
   ]
  },
  {
   "cell_type": "markdown",
   "metadata": {},
   "source": [
    "Next, we plot the distribution of the labels."
   ]
  },
  {
   "cell_type": "code",
   "execution_count": 58,
   "metadata": {},
   "outputs": [
    {
     "data": {
      "text/plain": [
       "<matplotlib.axes._subplots.AxesSubplot at 0x7f1cdfe2ce10>"
      ]
     },
     "execution_count": 58,
     "metadata": {},
     "output_type": "execute_result"
    },
    {
     "data": {
      "image/png": "[encoded data removed]",
      "text/plain": [
       "<Figure size 1152x288 with 1 Axes>"
      ]
     },
     "metadata": {},
     "output_type": "display_data"
    }
   ],
   "source": [
    "class_freq = {i:sum((training_label == i) == True) for i in set(training_label) }\n",
    "freq = list(class_freq.values())\n",
    "\n",
    "import pandas as pd\n",
    "class_freq = {\"Class Frequency\":freq}\n",
    "df = pd.DataFrame(index = range(46), data = class_freq)\n",
    "df.plot(kind = 'bar', figsize = (16,4), title = 'Frequency of Output Labels in Training Set')"
   ]
  },
  {
   "cell_type": "markdown",
   "metadata": {},
   "source": [
    "We can see that label 3 and label 3 have very high frequencies, while some others such as label 44 and 45 occur only once or twice. "
   ]
  },
  {
   "cell_type": "markdown",
   "metadata": {},
   "source": [
    "We create a function random_pred() that helps us to run 1000 simulations. It will tell us \n",
    "how many correct labels one can get by pure luck."
   ]
  },
  {
   "cell_type": "code",
   "execution_count": 64,
   "metadata": {},
   "outputs": [
    {
     "data": {
      "text/plain": [
       "0.18390325094633692"
      ]
     },
     "execution_count": 64,
     "metadata": {},
     "output_type": "execute_result"
    }
   ],
   "source": [
    "import random, copy\n",
    "def random_pred(label, times = 1000):\n",
    "    averages = 0\n",
    "    for i in range(times):\n",
    "        label1= copy.copy(label)\n",
    "        random.shuffle(label1)\n",
    "        right_guess = np.sum(label1 == label)\n",
    "        average = right_guess/len(label)\n",
    "        averages +=average\n",
    "    \n",
    "    return averages/times\n",
    "\n",
    "random_pred(training_label)"
   ]
  },
  {
   "cell_type": "markdown",
   "metadata": {},
   "source": [
    "On average, one would get 18.3% correct just by random luck.  \n",
    "  \n",
    "  \n",
    "Alternatively, we can also use the formula for the [expected value of a function](https://revisionmaths.com/advanced-level-maths-revision/statistics/expectation-and-variance) to calculate how many times we can expect to get correct labels by pure luck. "
   ]
  },
  {
   "cell_type": "markdown",
   "metadata": {},
   "source": [
    "$$\n",
    "ExpectedValue = \\sum_{i=0}^{45}Frequency (label_i)  \\times Probability(label_i) \n",
    "$$"
   ]
  },
  {
   "cell_type": "code",
   "execution_count": 76,
   "metadata": {},
   "outputs": [
    {
     "name": "stdout",
     "output_type": "stream",
     "text": [
      "We should expect to get 1650.4825205967493 random guesses correct when we try 8982 times randomly.\n"
     ]
    }
   ],
   "source": [
    "total = np.sum(class_freq['Class Frequency'])\n",
    "expected_value = np.sum([i*i/total for i in class_freq['Class Frequency']])\n",
    "\n",
    "print(\"We should expect to get {} random guesses correct when we try {} times randomly.\".format\n",
    "      (expected_value,total))"
   ]
  },
  {
   "cell_type": "code",
   "execution_count": 77,
   "metadata": {},
   "outputs": [
    {
     "data": {
      "text/plain": [
       "0.18375445564426066"
      ]
     },
     "execution_count": 77,
     "metadata": {},
     "output_type": "execute_result"
    }
   ],
   "source": [
    "expected_value/total"
   ]
  },
  {
   "cell_type": "markdown",
   "metadata": {},
   "source": [
    "This also gives us around 18.3%, very close to our simulated guess. \n",
    "  \n",
    "\n",
    "Let's convert the input sentences in the test and training sets into binary matrixes."
   ]
  },
  {
   "cell_type": "code",
   "execution_count": 72,
   "metadata": {},
   "outputs": [],
   "source": [
    "import numpy as np\n",
    "\n",
    "def vectorize_sentence(data, dimension = 10000):\n",
    "    binary_matrix = np.zeros((len(data), dimension))\n",
    "    for i, word in enumerate(data):\n",
    "        binary_matrix[i,word]= 1\n",
    "    return binary_matrix    "
   ]
  },
  {
   "cell_type": "code",
   "execution_count": 75,
   "metadata": {},
   "outputs": [],
   "source": [
    "training_input_binary = vectorize_sentence(training_input)\n",
    "test_input_binary = vectorize_sentence(test_input)"
   ]
  },
  {
   "cell_type": "code",
   "execution_count": 81,
   "metadata": {},
   "outputs": [
    {
     "name": "stdout",
     "output_type": "stream",
     "text": [
      "The shape of training input will become (8982, 10000). As illustration, the first training example will be transformed from [1, 2, 2, 8, 43, 10, 447, 5, 25, 207, 270, 5, 3095, 111, 16] to [0. 1. 1. ... 0. 0. 0.]\n"
     ]
    }
   ],
   "source": [
    "print('The shape of training input will become {}. \\\n",
    "As illustration, the first training example will be transformed from {} to \\\n",
    "{}'.format(training_input_binary.shape, example1, training_input_binary[0]))"
   ]
  },
  {
   "cell_type": "markdown",
   "metadata": {},
   "source": [
    "Let's build a Dense Neural Network with 2 hidden layers, each with 64 nodes. With 64 nodes, there will be lower chance of any information bottleneck. As the final layer has 46 classes, larger layers are needed so that the representations at the final layers are useful for making 46 probabilistic predictions."
   ]
  },
  {
   "cell_type": "code",
   "execution_count": 82,
   "metadata": {},
   "outputs": [],
   "source": [
    "from keras.models import Sequential\n",
    "from keras.layers import Dense"
   ]
  },
  {
   "cell_type": "code",
   "execution_count": 83,
   "metadata": {},
   "outputs": [
    {
     "name": "stdout",
     "output_type": "stream",
     "text": [
      "_________________________________________________________________\n",
      "Layer (type)                 Output Shape              Param #   \n",
      "=================================================================\n",
      "dense_4 (Dense)              (None, 64)                640064    \n",
      "_________________________________________________________________\n",
      "dense_5 (Dense)              (None, 64)                4160      \n",
      "_________________________________________________________________\n",
      "dense_6 (Dense)              (None, 46)                2990      \n",
      "=================================================================\n",
      "Total params: 647,214\n",
      "Trainable params: 647,214\n",
      "Non-trainable params: 0\n",
      "_________________________________________________________________\n"
     ]
    }
   ],
   "source": [
    "model = Sequential()\n",
    "model.add(Dense(64, activation = 'relu', input_shape = (10000,)))\n",
    "model.add(Dense(64, activation = 'relu'))\n",
    "model.add(Dense(46, activation = 'softmax'))\n",
    "model.summary()"
   ]
  },
  {
   "cell_type": "markdown",
   "metadata": {},
   "source": [
    "Because we are using 'sparse_categorical_crossentropy' as loss, there is no need to tranform the labels at all."
   ]
  },
  {
   "cell_type": "code",
   "execution_count": 84,
   "metadata": {},
   "outputs": [],
   "source": [
    "model.compile(optimizer = 'rmsprop',\n",
    "              loss = 'sparse_categorical_crossentropy',\n",
    "              metrics = ['acc'])"
   ]
  },
  {
   "cell_type": "code",
   "execution_count": 85,
   "metadata": {},
   "outputs": [
    {
     "name": "stdout",
     "output_type": "stream",
     "text": [
      "Train on 7185 samples, validate on 1797 samples\n",
      "Epoch 1/10\n",
      "7185/7185 [==============================] - 1s 124us/step - loss: 1.8833 - acc: 0.6021 - val_loss: 1.3052 - val_acc: 0.7106\n",
      "Epoch 2/10\n",
      "7185/7185 [==============================] - 1s 111us/step - loss: 1.0372 - acc: 0.7749 - val_loss: 1.1016 - val_acc: 0.7652\n",
      "Epoch 3/10\n",
      "7185/7185 [==============================] - 1s 102us/step - loss: 0.7126 - acc: 0.8438 - val_loss: 1.0133 - val_acc: 0.7769\n",
      "Epoch 4/10\n",
      "7185/7185 [==============================] - 1s 100us/step - loss: 0.4990 - acc: 0.8938 - val_loss: 1.0518 - val_acc: 0.7691\n",
      "Epoch 5/10\n",
      "7185/7185 [==============================] - 1s 102us/step - loss: 0.3535 - acc: 0.9222 - val_loss: 0.9150 - val_acc: 0.8041\n",
      "Epoch 6/10\n",
      "7185/7185 [==============================] - 1s 103us/step - loss: 0.2665 - acc: 0.9420 - val_loss: 0.9744 - val_acc: 0.7941\n",
      "Epoch 7/10\n",
      "7185/7185 [==============================] - 1s 103us/step - loss: 0.2101 - acc: 0.9489 - val_loss: 1.0135 - val_acc: 0.7824\n",
      "Epoch 8/10\n",
      "7185/7185 [==============================] - 1s 105us/step - loss: 0.1749 - acc: 0.9570 - val_loss: 1.0380 - val_acc: 0.7963\n",
      "Epoch 9/10\n",
      "7185/7185 [==============================] - 1s 105us/step - loss: 0.1535 - acc: 0.9574 - val_loss: 1.1326 - val_acc: 0.7885\n",
      "Epoch 10/10\n",
      "7185/7185 [==============================] - 1s 104us/step - loss: 0.1344 - acc: 0.9613 - val_loss: 1.1581 - val_acc: 0.7924\n"
     ]
    }
   ],
   "source": [
    "history = model.fit(training_input_binary, \n",
    "                    training_label,\n",
    "                    epochs = 10, \n",
    "                    batch_size = 128,\n",
    "                    validation_split = 0.2)"
   ]
  },
  {
   "cell_type": "code",
   "execution_count": 86,
   "metadata": {},
   "outputs": [],
   "source": [
    "import matplotlib.pyplot as plt"
   ]
  },
  {
   "cell_type": "code",
   "execution_count": 87,
   "metadata": {},
   "outputs": [],
   "source": [
    "val_acc = history.history['val_acc']\n",
    "acc = history.history['acc']\n",
    "val_loss = history.history['val_loss']\n",
    "loss = history.history['loss']\n",
    "epoch = range(1, len(val_acc)+1)"
   ]
  },
  {
   "cell_type": "code",
   "execution_count": 88,
   "metadata": {},
   "outputs": [
    {
     "data": {
      "text/plain": [
       "<matplotlib.legend.Legend at 0x7f1c574bbef0>"
      ]
     },
     "execution_count": 88,
     "metadata": {},
     "output_type": "execute_result"
    },
    {
     "data": {
      "image/png": "[encoded data removed]",
      "text/plain": [
       "<Figure size 432x288 with 1 Axes>"
      ]
     },
     "metadata": {},
     "output_type": "display_data"
    }
   ],
   "source": [
    "plt.plot(epoch, val_acc, label = 'Validation accuracy')\n",
    "plt.plot(epoch, acc, label = 'Training accuracy')\n",
    "plt.xlabel(\"Epochs\")\n",
    "plt.ylabel(\"Accuracy\")\n",
    "plt.title('Training vs Validation Accuracy')\n",
    "plt.legend()"
   ]
  },
  {
   "cell_type": "code",
   "execution_count": 89,
   "metadata": {},
   "outputs": [
    {
     "data": {
      "text/plain": [
       "<matplotlib.legend.Legend at 0x7f1c577c7cf8>"
      ]
     },
     "execution_count": 89,
     "metadata": {},
     "output_type": "execute_result"
    },
    {
     "data": {
      "image/png": "[encoded data removed]",
      "text/plain": [
       "<Figure size 432x288 with 1 Axes>"
      ]
     },
     "metadata": {},
     "output_type": "display_data"
    }
   ],
   "source": [
    "plt.plot(epoch, val_loss, label = 'Validation loss')\n",
    "plt.plot(epoch, loss, label = 'Training loss')\n",
    "plt.xlabel(\"Epochs\")\n",
    "plt.ylabel(\"Loss\")\n",
    "plt.title('Training vs Validation Loss')\n",
    "plt.legend()"
   ]
  },
  {
   "cell_type": "markdown",
   "metadata": {},
   "source": [
    "The model started overfitting around the 5th epochs. Let's retrain the model for 5 epochs and evaluate the model on the test set."
   ]
  },
  {
   "cell_type": "code",
   "execution_count": 94,
   "metadata": {},
   "outputs": [
    {
     "name": "stdout",
     "output_type": "stream",
     "text": [
      "Train on 7185 samples, validate on 1797 samples\n",
      "Epoch 1/5\n",
      "7185/7185 [==============================] - 1s 128us/step - loss: 1.8691 - acc: 0.6171 - val_loss: 1.3009 - val_acc: 0.6884\n",
      "Epoch 2/5\n",
      "7185/7185 [==============================] - 1s 105us/step - loss: 0.9863 - acc: 0.7854 - val_loss: 1.0717 - val_acc: 0.7618\n",
      "Epoch 3/5\n",
      "7185/7185 [==============================] - 1s 102us/step - loss: 0.6642 - acc: 0.8554 - val_loss: 0.9787 - val_acc: 0.7813\n",
      "Epoch 4/5\n",
      "7185/7185 [==============================] - 1s 103us/step - loss: 0.4596 - acc: 0.9030 - val_loss: 0.9388 - val_acc: 0.7952\n",
      "Epoch 5/5\n",
      "7185/7185 [==============================] - 1s 106us/step - loss: 0.3266 - acc: 0.9307 - val_loss: 0.9247 - val_acc: 0.8041\n"
     ]
    }
   ],
   "source": [
    "model = Sequential()\n",
    "model.add(Dense(64, activation = 'relu', input_shape = (10000,)))\n",
    "model.add(Dense(64, activation = 'relu'))\n",
    "model.add(Dense(46, activation = 'softmax'))\n",
    "\n",
    "model.compile(optimizer = 'rmsprop',\n",
    "              loss = 'sparse_categorical_crossentropy',\n",
    "              metrics = ['acc'])\n",
    "\n",
    "history = model.fit(training_input_binary, \n",
    "                    training_label,\n",
    "                    epochs = 5, # change to 6 epochs\n",
    "                    batch_size = 128,\n",
    "                    validation_split = 0.2)"
   ]
  },
  {
   "cell_type": "code",
   "execution_count": 97,
   "metadata": {},
   "outputs": [
    {
     "name": "stdout",
     "output_type": "stream",
     "text": [
      "2246/2246 [==============================] - 0s 179us/step\n",
      "loss: 0.9829077737626495, accuracy: 0.7880676758682101\n"
     ]
    }
   ],
   "source": [
    "loss_test, accuracy_test = model.evaluate(test_input_binary, test_label)\n",
    "print(\"loss: {}, accuracy: {}\".format(loss_test, accuracy_test))"
   ]
  },
  {
   "cell_type": "markdown",
   "metadata": {},
   "source": [
    "The model has an accuracy of 78%, compared to a baseline of 18%.  \n",
    "\n"
   ]
  },
  {
   "cell_type": "markdown",
   "metadata": {},
   "source": [
    "Reference:\n",
    "\n",
    "1) Deep Learning with Python - Francois Chollet\n"
   ]
  }
 ],
 "metadata": {
  "kernelspec": {
   "display_name": "Python [conda env:tensorflowenv]",
   "language": "python",
   "name": "conda-env-tensorflowenv-py"
  },
  "language_info": {
   "codemirror_mode": {
    "name": "ipython",
    "version": 3
   },
   "file_extension": ".py",
   "mimetype": "text/x-python",
   "name": "python",
   "nbconvert_exporter": "python",
   "pygments_lexer": "ipython3",
   "version": "3.6.5"
  }
 },
 "nbformat": 4,
 "nbformat_minor": 2
}
