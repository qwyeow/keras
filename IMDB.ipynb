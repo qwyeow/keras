{
 "cells": [
  {
   "cell_type": "markdown",
   "metadata": {},
   "source": [
    "# Movie Review Sentiment Analysis"
   ]
  },
  {
   "cell_type": "markdown",
   "metadata": {},
   "source": [
    "Let's use five different deep learning models to perform sentiment analysis on one dataset, the IMDB dataset. The Internet Movie Database (IMDB) dataset consists 50,000 movie reviews, half of which are good reviews, the other half bad. As it is already preloaded in Keras, loading and using it is very easy. "
   ]
  },
  {
   "cell_type": "code",
   "execution_count": 1,
   "metadata": {},
   "outputs": [
    {
     "name": "stderr",
     "output_type": "stream",
     "text": [
      "Using TensorFlow backend.\n"
     ]
    }
   ],
   "source": [
    "from keras.datasets import imdb"
   ]
  },
  {
   "cell_type": "markdown",
   "metadata": {},
   "source": [
    "To leave out the rare words, we will only use the top 10,000 most frequent words. "
   ]
  },
  {
   "cell_type": "code",
   "execution_count": 2,
   "metadata": {},
   "outputs": [],
   "source": [
    "(training_input, training_label), (test_input, test_label) = imdb.load_data(num_words=10000)"
   ]
  },
  {
   "cell_type": "code",
   "execution_count": 3,
   "metadata": {},
   "outputs": [
    {
     "name": "stdout",
     "output_type": "stream",
     "text": [
      "The size of training data is 25000 training inputs plus 25000 corresponding training labels, while\n",
      "the size of training data is 25000 test inputs plus 25000 corresponding test labels.\n"
     ]
    }
   ],
   "source": [
    "print(\"The size of training data is {} training inputs plus {} corresponding training labels, while\".format\n",
    "      (len(training_input),len(training_label)))\n",
    "\n",
    "print(\"the size of training data is {} test inputs plus {} corresponding test labels.\".format\n",
    "      (len(test_input),len(test_label)))"
   ]
  },
  {
   "cell_type": "code",
   "execution_count": 4,
   "metadata": {},
   "outputs": [
    {
     "name": "stdout",
     "output_type": "stream",
     "text": [
      "Let's examine the 1st training input. We'll print its first 15 elements here: [1, 14, 22, 16, 43, 530, 973, 1622, 1385, 65, 458, 4468, 66, 3941, 4]\n",
      "Since we set numwords = 10000, the highest index is 9999\n"
     ]
    }
   ],
   "source": [
    "example_1 = list(training_input[0])[:15]\n",
    "\n",
    "print(\"Let's examine the 1st training input. We'll print its first 15 elements here: {}\".format\n",
    "      (example_1))\n",
    "\n",
    "print(\"Since we set numwords = 10000, the highest index is {}\".format\n",
    "      (max([max(i) for i in training_input])))"
   ]
  },
  {
   "cell_type": "markdown",
   "metadata": {},
   "source": [
    "The dictionary mapping from word to index is built-in as well."
   ]
  },
  {
   "cell_type": "code",
   "execution_count": 5,
   "metadata": {},
   "outputs": [
    {
     "data": {
      "text/plain": [
       "[('fawn', 34701),\n",
       " ('tsukino', 52006),\n",
       " ('nunnery', 52007),\n",
       " ('sonja', 16816),\n",
       " ('vani', 63951),\n",
       " ('woods', 1408),\n",
       " ('spiders', 16115),\n",
       " ('hanging', 2345),\n",
       " ('woody', 2289),\n",
       " ('trawling', 52008)]"
      ]
     },
     "execution_count": 5,
     "metadata": {},
     "output_type": "execute_result"
    }
   ],
   "source": [
    "word2index = imdb.get_word_index()\n",
    "list(word2index .items())[:10]"
   ]
  },
  {
   "cell_type": "markdown",
   "metadata": {},
   "source": [
    "We'll have to create the reverse dictonary which maps from index to word."
   ]
  },
  {
   "cell_type": "code",
   "execution_count": 6,
   "metadata": {},
   "outputs": [
    {
     "data": {
      "text/plain": [
       "[(34701, 'fawn'),\n",
       " (52006, 'tsukino'),\n",
       " (52007, 'nunnery'),\n",
       " (16816, 'sonja'),\n",
       " (63951, 'vani'),\n",
       " (1408, 'woods'),\n",
       " (16115, 'spiders'),\n",
       " (2345, 'hanging'),\n",
       " (2289, 'woody'),\n",
       " (52008, 'trawling')]"
      ]
     },
     "execution_count": 6,
     "metadata": {},
     "output_type": "execute_result"
    }
   ],
   "source": [
    "index2word = {j:i for i,j in word2index.items()}\n",
    "list(index2word.items())[:10]"
   ]
  },
  {
   "cell_type": "markdown",
   "metadata": {},
   "source": [
    "We can use it to convert the first training input from numbers to words."
   ]
  },
  {
   "cell_type": "code",
   "execution_count": 7,
   "metadata": {},
   "outputs": [
    {
     "data": {
      "text/plain": [
       "\"? this film was just brilliant casting location scenery story direction everyone's really suited the part they played and you could just imagine being there robert ? is an amazing actor and now the same being director ? father came from the same scottish island as myself so i loved the fact there was a real connection with this film the witty remarks throughout the film were great it was just brilliant so much that i bought the film as soon as it was released for ? and would recommend it to everyone to watch and the fly fishing was amazing really cried at the end it was so sad and you know what they say if you cry at a film it must have been good and this definitely was also ? to the two little boy's that played the ? of norman and paul they were just brilliant children are often left out of the ? list i think because the stars that play them all grown up are such a big profile for the whole film but these children are amazing and should be praised for what they have done don't you think the whole story was so lovely because it was true and was someone's life after all that was shared with us all\""
      ]
     },
     "execution_count": 7,
     "metadata": {},
     "output_type": "execute_result"
    }
   ],
   "source": [
    "\" \".join([index2word.get(i-3, \"?\") for i in training_input[0]])"
   ]
  },
  {
   "cell_type": "markdown",
   "metadata": {},
   "source": [
    "## 1) Dense Network"
   ]
  },
  {
   "cell_type": "markdown",
   "metadata": {},
   "source": [
    "The first model will be dense network with 2 hidden layers and one Dense output layer. The function vectorize_sentence will convert the training and test inputs into binary matrix, so that it can be fed into the network. There is no need to transform the labels."
   ]
  },
  {
   "cell_type": "code",
   "execution_count": 8,
   "metadata": {},
   "outputs": [],
   "source": [
    "import numpy as np\n",
    "\n",
    "def vectorize_sentence(sequences, dimension = 10000):\n",
    "    result = np.zeros((len(sequences), dimension))\n",
    "    for i, j in enumerate(sequences):\n",
    "        result[i,j] = 1\n",
    "    return result\n",
    "\n",
    "training_input_binary_index = vectorize_sentence(training_input)\n",
    "test_input_binary_index = vectorize_sentence(test_input)"
   ]
  },
  {
   "cell_type": "code",
   "execution_count": 9,
   "metadata": {},
   "outputs": [
    {
     "name": "stdout",
     "output_type": "stream",
     "text": [
      "The shape of training input will become (25000, 10000). As illustration, the first training example will be transformed from [1, 14, 22, 16, 43, 530, 973, 1622, 1385, 65, 458, 4468, 66, 3941, 4] to [0. 1. 1. ... 0. 0. 0.]\n"
     ]
    }
   ],
   "source": [
    "print('The shape of training input will become {}. \\\n",
    "As illustration, the first training example will be transformed from {} to \\\n",
    "{}'.format(training_input_binary_index.shape, example_1, training_input_binary_index[0]))"
   ]
  },
  {
   "cell_type": "markdown",
   "metadata": {},
   "source": [
    "Below is our model 1."
   ]
  },
  {
   "cell_type": "code",
   "execution_count": 81,
   "metadata": {},
   "outputs": [
    {
     "name": "stdout",
     "output_type": "stream",
     "text": [
      "_________________________________________________________________\n",
      "Layer (type)                 Output Shape              Param #   \n",
      "=================================================================\n",
      "dense_36 (Dense)             (None, 16)                160016    \n",
      "_________________________________________________________________\n",
      "dense_37 (Dense)             (None, 16)                272       \n",
      "_________________________________________________________________\n",
      "dense_38 (Dense)             (None, 1)                 17        \n",
      "=================================================================\n",
      "Total params: 160,305\n",
      "Trainable params: 160,305\n",
      "Non-trainable params: 0\n",
      "_________________________________________________________________\n"
     ]
    }
   ],
   "source": [
    "from keras.models import Sequential\n",
    "from keras.layers import Dense\n",
    "\n",
    "model1 = Sequential()\n",
    "model1.add(Dense(16, activation= \"relu\", input_shape = (10000, )))\n",
    "model1.add(Dense(16, activation = \"relu\"))\n",
    "model1.add(Dense(1, activation = \"sigmoid\"))\n",
    "model1.summary()"
   ]
  },
  {
   "cell_type": "code",
   "execution_count": 82,
   "metadata": {},
   "outputs": [],
   "source": [
    "model1.compile(optimizer = \"rmsprop\",\n",
    "               loss = 'binary_crossentropy',\n",
    "               metrics = ['accuracy'])"
   ]
  },
  {
   "cell_type": "code",
   "execution_count": 83,
   "metadata": {},
   "outputs": [
    {
     "name": "stdout",
     "output_type": "stream",
     "text": [
      "Train on 20000 samples, validate on 5000 samples\n",
      "Epoch 1/20\n",
      "20000/20000 [==============================] - 2s 80us/step - loss: 0.4798 - acc: 0.8076 - val_loss: 0.3594 - val_acc: 0.8698\n",
      "Epoch 2/20\n",
      "20000/20000 [==============================] - 1s 44us/step - loss: 0.2711 - acc: 0.9059 - val_loss: 0.2802 - val_acc: 0.8920\n",
      "Epoch 3/20\n",
      "20000/20000 [==============================] - 1s 50us/step - loss: 0.2021 - acc: 0.9307 - val_loss: 0.2844 - val_acc: 0.8860\n",
      "Epoch 4/20\n",
      "20000/20000 [==============================] - 1s 51us/step - loss: 0.1657 - acc: 0.9428 - val_loss: 0.3254 - val_acc: 0.8756\n",
      "Epoch 5/20\n",
      "20000/20000 [==============================] - 1s 48us/step - loss: 0.1401 - acc: 0.9515 - val_loss: 0.3275 - val_acc: 0.8792\n",
      "Epoch 6/20\n",
      "20000/20000 [==============================] - 1s 46us/step - loss: 0.1189 - acc: 0.9605 - val_loss: 0.3129 - val_acc: 0.8876\n",
      "Epoch 7/20\n",
      "20000/20000 [==============================] - 1s 46us/step - loss: 0.1046 - acc: 0.9652 - val_loss: 0.3399 - val_acc: 0.8824\n",
      "Epoch 8/20\n",
      "20000/20000 [==============================] - 1s 45us/step - loss: 0.0855 - acc: 0.9718 - val_loss: 0.4669 - val_acc: 0.8550\n",
      "Epoch 9/20\n",
      "20000/20000 [==============================] - 1s 46us/step - loss: 0.0791 - acc: 0.9741 - val_loss: 0.3915 - val_acc: 0.8766\n",
      "Epoch 10/20\n",
      "20000/20000 [==============================] - 1s 53us/step - loss: 0.0646 - acc: 0.9802 - val_loss: 0.4119 - val_acc: 0.8776\n",
      "Epoch 11/20\n",
      "20000/20000 [==============================] - 1s 59us/step - loss: 0.0591 - acc: 0.9821 - val_loss: 0.4904 - val_acc: 0.8670\n",
      "Epoch 12/20\n",
      "20000/20000 [==============================] - ETA: 0s - loss: 0.0476 - acc: 0.986 - 1s 51us/step - loss: 0.0475 - acc: 0.9864 - val_loss: 0.5395 - val_acc: 0.8610\n",
      "Epoch 13/20\n",
      "20000/20000 [==============================] - 1s 46us/step - loss: 0.0415 - acc: 0.9887 - val_loss: 0.5185 - val_acc: 0.8722\n",
      "Epoch 14/20\n",
      "20000/20000 [==============================] - 1s 43us/step - loss: 0.0397 - acc: 0.9885 - val_loss: 0.5435 - val_acc: 0.8690\n",
      "Epoch 15/20\n",
      "20000/20000 [==============================] - 1s 42us/step - loss: 0.0292 - acc: 0.9922 - val_loss: 0.5716 - val_acc: 0.8708\n",
      "Epoch 16/20\n",
      "20000/20000 [==============================] - 1s 44us/step - loss: 0.0297 - acc: 0.9914 - val_loss: 0.6148 - val_acc: 0.8680\n",
      "Epoch 17/20\n",
      "20000/20000 [==============================] - 1s 45us/step - loss: 0.0188 - acc: 0.9960 - val_loss: 0.6653 - val_acc: 0.8666\n",
      "Epoch 18/20\n",
      "20000/20000 [==============================] - 1s 49us/step - loss: 0.0178 - acc: 0.9962 - val_loss: 0.6964 - val_acc: 0.8640\n",
      "Epoch 19/20\n",
      "20000/20000 [==============================] - 1s 47us/step - loss: 0.0144 - acc: 0.9970 - val_loss: 0.7513 - val_acc: 0.8616\n",
      "Epoch 20/20\n",
      "20000/20000 [==============================] - 1s 47us/step - loss: 0.0152 - acc: 0.9957 - val_loss: 0.7388 - val_acc: 0.8696\n"
     ]
    }
   ],
   "source": [
    "history1 = model1.fit(training_input_binary_index, \n",
    "                    training_label, \n",
    "                    epochs = 20, \n",
    "                    batch_size = 512, \n",
    "                    validation_split = 0.2)"
   ]
  },
  {
   "cell_type": "code",
   "execution_count": 84,
   "metadata": {},
   "outputs": [
    {
     "data": {
      "text/plain": [
       "<matplotlib.legend.Legend at 0x7f94b51d8f60>"
      ]
     },
     "execution_count": 84,
     "metadata": {},
     "output_type": "execute_result"
    },
    {
     "data": {
      "image/png": "[encoded data removed]",
      "text/plain": [
       "<Figure size 432x288 with 1 Axes>"
      ]
     },
     "metadata": {},
     "output_type": "display_data"
    }
   ],
   "source": [
    "import matplotlib.pyplot as plt\n",
    "val_loss = history1.history['val_loss']\n",
    "loss = history1.history['loss']\n",
    "epochs = range(1, len(val_loss)+1)\n",
    "plt.plot(epochs, val_loss, label = \"validation loss\")\n",
    "plt.plot(epochs, loss, label = 'training loss')\n",
    "plt.title(\"Training loss vd Validation loss\")\n",
    "plt.xlabel(\"epochs\")\n",
    "plt.ylabel(\"loss\")\n",
    "plt.legend()"
   ]
  },
  {
   "cell_type": "markdown",
   "metadata": {},
   "source": [
    "Above, we can see that Model 1 started to overfit pretty early from around epoch 4 onwards."
   ]
  },
  {
   "cell_type": "code",
   "execution_count": 85,
   "metadata": {},
   "outputs": [
    {
     "data": {
      "text/plain": [
       "<matplotlib.legend.Legend at 0x7f94b55ede80>"
      ]
     },
     "execution_count": 85,
     "metadata": {},
     "output_type": "execute_result"
    },
    {
     "data": {
      "image/png": "[encoded data removed]",
      "text/plain": [
       "<Figure size 432x288 with 1 Axes>"
      ]
     },
     "metadata": {},
     "output_type": "display_data"
    }
   ],
   "source": [
    "val_acc = history1.history[\"val_acc\"]\n",
    "acc = history1.history[\"acc\"]\n",
    "plt.plot(epochs, val_acc, label = \"validation accuracy\")\n",
    "plt.plot(epochs, acc, label = \"training accuracy\")\n",
    "plt.xlabel(\"epochs\")\n",
    "plt.ylabel(\"accuracy\")\n",
    "plt.title(\"Training accuracy vs Validation accuracy\")\n",
    "plt.legend()"
   ]
  },
  {
   "cell_type": "markdown",
   "metadata": {},
   "source": [
    "However, it has stable and high accuracy at around 88%.  \n",
    "  \n",
    "We'll start over and retrain Model 1 for 4 epochs. "
   ]
  },
  {
   "cell_type": "code",
   "execution_count": 15,
   "metadata": {},
   "outputs": [
    {
     "name": "stdout",
     "output_type": "stream",
     "text": [
      "Train on 20000 samples, validate on 5000 samples\n",
      "Epoch 1/4\n",
      "20000/20000 [==============================] - 1s 65us/step - loss: 0.4571 - acc: 0.8140 - val_loss: 0.3782 - val_acc: 0.8454\n",
      "Epoch 2/4\n",
      "20000/20000 [==============================] - 1s 60us/step - loss: 0.2690 - acc: 0.9085 - val_loss: 0.2978 - val_acc: 0.8832\n",
      "Epoch 3/4\n",
      "20000/20000 [==============================] - 1s 59us/step - loss: 0.2010 - acc: 0.9304 - val_loss: 0.2739 - val_acc: 0.8904\n",
      "Epoch 4/4\n",
      "20000/20000 [==============================] - 1s 59us/step - loss: 0.1651 - acc: 0.9434 - val_loss: 0.2962 - val_acc: 0.8854\n"
     ]
    }
   ],
   "source": [
    "model1 = Sequential()\n",
    "model1.add(Dense(16, activation= \"relu\", input_shape = (10000, )))\n",
    "model1.add(Dense(16, activation = \"relu\"))\n",
    "model1.add(Dense(1, activation = \"sigmoid\"))\n",
    "\n",
    "model1.compile(optimizer = \"rmsprop\",\n",
    "               loss = 'binary_crossentropy',\n",
    "               metrics = ['accuracy'])\n",
    "\n",
    "history1 = model1.fit(training_input_binary_index, \n",
    "                    training_label, \n",
    "                    epochs = 4, \n",
    "                    batch_size = 512, \n",
    "                    validation_split = 0.2)\n"
   ]
  },
  {
   "cell_type": "markdown",
   "metadata": {},
   "source": [
    "Evaluating Model 1 on the test data, we have the following loss nad accuracy."
   ]
  },
  {
   "cell_type": "code",
   "execution_count": 16,
   "metadata": {},
   "outputs": [
    {
     "name": "stdout",
     "output_type": "stream",
     "text": [
      "25000/25000 [==============================] - 4s 174us/step\n",
      "['loss', 'acc'] \n",
      " [0.3059504289722443, 0.87804]\n"
     ]
    }
   ],
   "source": [
    "pred1 = model1.evaluate(test_input_binary_index, test_label)\n",
    "print(model1.metrics_names,\"\\n\",pred1)"
   ]
  },
  {
   "cell_type": "markdown",
   "metadata": {},
   "source": [
    "## 2) Using an embedding layer"
   ]
  },
  {
   "cell_type": "markdown",
   "metadata": {},
   "source": [
    "For Model 2, we will use an Embedding layer instead. The word embeddings will be trained together with the network. It will need to be flattened before it is fed to the output layer."
   ]
  },
  {
   "cell_type": "code",
   "execution_count": 17,
   "metadata": {},
   "outputs": [],
   "source": [
    "from keras.layers import Embedding, Flatten, Dense\n",
    "from keras.models import Sequential"
   ]
  },
  {
   "cell_type": "markdown",
   "metadata": {},
   "source": [
    "Since the training inputs are of different length, we will need to truncate the longer ones and pad the shorter ones so that the entire set has length of 1000. The 10th training input is printed below."
   ]
  },
  {
   "cell_type": "code",
   "execution_count": 18,
   "metadata": {},
   "outputs": [],
   "source": [
    "from keras.preprocessing.sequence import pad_sequences\n",
    "maxlength = 500\n",
    "\n",
    "training_input_padded = pad_sequences(training_input, maxlen = maxlength)\n",
    "test_input_padded = pad_sequences(test_input, maxlen = maxlength)"
   ]
  },
  {
   "cell_type": "code",
   "execution_count": 19,
   "metadata": {},
   "outputs": [
    {
     "data": {
      "text/plain": [
       "array([   0,    0,    0,    0,    0,    0,    0,    0,    0,    0,    0,\n",
       "          0,    0,    0,    0,    0,    0,    0,    0,    0,    0,    0,\n",
       "          0,    0,    0,    0,    0,    0,    0,    0,    0,    0,    0,\n",
       "          0,    0,    0,    0,    0,    0,    0,    0,    0,    0,    0,\n",
       "          0,    0,    0,    0,    0,    0,    1,  785,  189,  438,   47,\n",
       "        110,  142,    7,    6, 7475,  120,    4,  236,  378,    7,  153,\n",
       "         19,   87,  108,  141,   17, 1004,    5,    2,  883,    2,   23,\n",
       "          8,    4,  136,    2,    2,    4, 7475,   43, 1076,   21, 1407,\n",
       "        419,    5, 5202,  120,   91,  682,  189, 2818,    5,    9, 1348,\n",
       "         31,    7,    4,  118,  785,  189,  108,  126,   93,    2,   16,\n",
       "        540,  324,   23,    6,  364,  352,   21,   14,    9,   93,   56,\n",
       "         18,   11,  230,   53,  771,   74,   31,   34,    4, 2834,    7,\n",
       "          4,   22,    5,   14,   11,  471,    9,    2,   34,    4,  321,\n",
       "        487,    5,  116,   15, 6584,    4,   22,    9,    6, 2286,    4,\n",
       "        114, 2679,   23,  107,  293, 1008, 1172,    5,  328, 1236,    4,\n",
       "       1375,  109,    9,    6,  132,  773,    2, 1412,    8, 1172,   18,\n",
       "       7865,   29,    9,  276,   11,    6, 2768,   19,  289,  409,    4,\n",
       "       5341, 2140,    2,  648, 1430,    2, 8914,    5,   27, 3000, 1432,\n",
       "       7130,  103,    6,  346,  137,   11,    4, 2768,  295,   36, 7740,\n",
       "        725,    6, 3208,  273,   11,    4, 1513,   15, 1367,   35,  154,\n",
       "          2,  103,    2,  173,    7,   12,   36,  515, 3547,   94, 2547,\n",
       "       1722,    5, 3547,   36,  203,   30,  502,    8,  361,   12,    8,\n",
       "        989,  143,    4, 1172, 3404,   10,   10,  328, 1236,    9,    6,\n",
       "         55,  221, 2989,    5,  146,  165,  179,  770,   15,   50,  713,\n",
       "         53,  108,  448,   23,   12,   17,  225,   38,   76, 4397,   18,\n",
       "        183,    8,   81,   19,   12,   45, 1257,    8,  135,   15,    2,\n",
       "        166,    4,  118,    7,   45,    2,   17,  466,   45,    2,    4,\n",
       "         22,  115,  165,  764, 6075,    5, 1030,    8, 2973,   73,  469,\n",
       "        167, 2127,    2, 1568,    6,   87,  841,   18,    4,   22,    4,\n",
       "        192,   15,   91,    7,   12,  304,  273, 1004,    4, 1375, 1172,\n",
       "       2768,    2,   15,    4,   22,  764,   55, 5773,    5,   14, 4233,\n",
       "       7444,    4, 1375,  326,    7,    4, 4760, 1786,    8,  361, 1236,\n",
       "          8,  989,   46,    7,    4, 2768,   45,   55,  776,    8,   79,\n",
       "        496,   98,   45,  400,  301,   15,    4, 1859,    9,    4,  155,\n",
       "         15,   66,    2,   84,    5,   14,   22, 1534,   15,   17,    4,\n",
       "        167,    2,   15,   75,   70,  115,   66,   30,  252,    7,  618,\n",
       "         51,    9, 2161,    4, 3130,    5,   14, 1525,    8, 6584,   15,\n",
       "          2,  165,  127, 1921,    8,   30,  179, 2532,    4,   22,    9,\n",
       "        906,   18,    6,  176,    7, 1007, 1005,    4, 1375,  114,    4,\n",
       "        105,   26,   32,   55,  221,   11,   68,  205,   96,    5,    4,\n",
       "        192,   15,    4,  274,  410,  220,  304,   23,   94,  205,  109,\n",
       "          9,   55,   73,  224,  259, 3786,   15,    4,   22,  528, 1645,\n",
       "         34,    4,  130,  528,   30,  685,  345,   17,    4,  277,  199,\n",
       "        166,  281,    5, 1030,    8,   30,  179, 4442,  444,    2,    9,\n",
       "          6,  371,   87,  189,   22,    5,   31,    7,    4,  118,    7,\n",
       "          4, 2068,  545, 1178,  829], dtype=int32)"
      ]
     },
     "execution_count": 19,
     "metadata": {},
     "output_type": "execute_result"
    }
   ],
   "source": [
    "training_input_padded[10]"
   ]
  },
  {
   "cell_type": "markdown",
   "metadata": {},
   "source": [
    "Next we specify the architecture for Model 2."
   ]
  },
  {
   "cell_type": "code",
   "execution_count": 20,
   "metadata": {},
   "outputs": [
    {
     "name": "stdout",
     "output_type": "stream",
     "text": [
      "_________________________________________________________________\n",
      "Layer (type)                 Output Shape              Param #   \n",
      "=================================================================\n",
      "embed (Embedding)            (None, 500, 8)            80000     \n",
      "_________________________________________________________________\n",
      "flatten_1 (Flatten)          (None, 4000)              0         \n",
      "_________________________________________________________________\n",
      "dense_7 (Dense)              (None, 1)                 4001      \n",
      "=================================================================\n",
      "Total params: 84,001\n",
      "Trainable params: 84,001\n",
      "Non-trainable params: 0\n",
      "_________________________________________________________________\n"
     ]
    }
   ],
   "source": [
    "model2 = Sequential()\n",
    "model2.add(Embedding(10000,8,input_length = maxlength, name = 'embed'))\n",
    "model2.add(Flatten())\n",
    "model2.add(Dense(1, activation = 'sigmoid'))\n",
    "model2.summary()"
   ]
  },
  {
   "cell_type": "code",
   "execution_count": 21,
   "metadata": {},
   "outputs": [],
   "source": [
    "model2.compile(optimizer = 'rmsprop',\n",
    "               loss = 'binary_crossentropy',\n",
    "               metrics = ['accuracy'])"
   ]
  },
  {
   "cell_type": "code",
   "execution_count": 22,
   "metadata": {},
   "outputs": [
    {
     "name": "stdout",
     "output_type": "stream",
     "text": [
      "Train on 20000 samples, validate on 5000 samples\n",
      "Epoch 1/20\n",
      "20000/20000 [==============================] - 0s 16us/step - loss: 0.6897 - acc: 0.5445 - val_loss: 0.6846 - val_acc: 0.4978\n",
      "Epoch 2/20\n",
      "20000/20000 [==============================] - 0s 10us/step - loss: 0.6493 - acc: 0.7016 - val_loss: 0.6146 - val_acc: 0.7212\n",
      "Epoch 3/20\n",
      "20000/20000 [==============================] - 0s 10us/step - loss: 0.5557 - acc: 0.7949 - val_loss: 0.5112 - val_acc: 0.8022\n",
      "Epoch 4/20\n",
      "20000/20000 [==============================] - 0s 11us/step - loss: 0.4516 - acc: 0.8478 - val_loss: 0.4252 - val_acc: 0.8432\n",
      "Epoch 5/20\n",
      "20000/20000 [==============================] - 0s 10us/step - loss: 0.3678 - acc: 0.8778 - val_loss: 0.3793 - val_acc: 0.8512\n",
      "Epoch 6/20\n",
      "20000/20000 [==============================] - 0s 10us/step - loss: 0.3114 - acc: 0.8927 - val_loss: 0.3504 - val_acc: 0.8518\n",
      "Epoch 7/20\n",
      "20000/20000 [==============================] - 0s 10us/step - loss: 0.2714 - acc: 0.9059 - val_loss: 0.3328 - val_acc: 0.8628\n",
      "Epoch 8/20\n",
      "20000/20000 [==============================] - 0s 10us/step - loss: 0.2428 - acc: 0.9147 - val_loss: 0.3039 - val_acc: 0.8776\n",
      "Epoch 9/20\n",
      "20000/20000 [==============================] - 0s 10us/step - loss: 0.2198 - acc: 0.9254 - val_loss: 0.3077 - val_acc: 0.8692\n",
      "Epoch 10/20\n",
      "20000/20000 [==============================] - 0s 10us/step - loss: 0.2017 - acc: 0.9291 - val_loss: 0.2771 - val_acc: 0.8868\n",
      "Epoch 11/20\n",
      "20000/20000 [==============================] - 0s 10us/step - loss: 0.1844 - acc: 0.9362 - val_loss: 0.2744 - val_acc: 0.8872\n",
      "Epoch 12/20\n",
      "20000/20000 [==============================] - 0s 10us/step - loss: 0.1704 - acc: 0.9419 - val_loss: 0.2783 - val_acc: 0.8840\n",
      "Epoch 13/20\n",
      "20000/20000 [==============================] - 0s 10us/step - loss: 0.1575 - acc: 0.9479 - val_loss: 0.2733 - val_acc: 0.8858\n",
      "Epoch 14/20\n",
      "20000/20000 [==============================] - 0s 10us/step - loss: 0.1469 - acc: 0.9516 - val_loss: 0.2788 - val_acc: 0.8852\n",
      "Epoch 15/20\n",
      "20000/20000 [==============================] - 0s 10us/step - loss: 0.1365 - acc: 0.9566 - val_loss: 0.2808 - val_acc: 0.8840\n",
      "Epoch 16/20\n",
      "20000/20000 [==============================] - 0s 10us/step - loss: 0.1282 - acc: 0.9594 - val_loss: 0.2722 - val_acc: 0.8916\n",
      "Epoch 17/20\n",
      "20000/20000 [==============================] - 0s 10us/step - loss: 0.1191 - acc: 0.9634 - val_loss: 0.2723 - val_acc: 0.8940\n",
      "Epoch 18/20\n",
      "20000/20000 [==============================] - 0s 10us/step - loss: 0.1107 - acc: 0.9664 - val_loss: 0.2742 - val_acc: 0.8952\n",
      "Epoch 19/20\n",
      "20000/20000 [==============================] - 0s 10us/step - loss: 0.1040 - acc: 0.9686 - val_loss: 0.2804 - val_acc: 0.8928\n",
      "Epoch 20/20\n",
      "20000/20000 [==============================] - 0s 10us/step - loss: 0.0963 - acc: 0.9726 - val_loss: 0.3124 - val_acc: 0.8770\n"
     ]
    }
   ],
   "source": [
    "history2 = model2.fit(training_input_padded, training_label,\n",
    "                     epochs = 20,\n",
    "                     batch_size = 512,\n",
    "                     validation_split = 0.2)"
   ]
  },
  {
   "cell_type": "code",
   "execution_count": 23,
   "metadata": {},
   "outputs": [
    {
     "data": {
      "text/plain": [
       "<matplotlib.legend.Legend at 0x7f9604cabe10>"
      ]
     },
     "execution_count": 23,
     "metadata": {},
     "output_type": "execute_result"
    },
    {
     "data": {
      "image/png": "[encoded data removed]",
      "text/plain": [
       "<Figure size 432x288 with 1 Axes>"
      ]
     },
     "metadata": {},
     "output_type": "display_data"
    }
   ],
   "source": [
    "val_loss = history2.history['val_loss']\n",
    "loss = history2.history['loss']\n",
    "epochs = range(1, len(val_loss)+1)\n",
    "plt.plot(epochs, val_loss, label = \"validation loss\")\n",
    "plt.plot(epochs, loss, label = 'training loss')\n",
    "plt.title(\"Training loss vd Validation loss\")\n",
    "plt.xlabel(\"epochs\")\n",
    "plt.ylabel(\"loss\")\n",
    "plt.legend()"
   ]
  },
  {
   "cell_type": "code",
   "execution_count": 24,
   "metadata": {},
   "outputs": [
    {
     "data": {
      "text/plain": [
       "<matplotlib.legend.Legend at 0x7f9604f62710>"
      ]
     },
     "execution_count": 24,
     "metadata": {},
     "output_type": "execute_result"
    },
    {
     "data": {
      "image/png": "[encoded data removed]",
      "text/plain": [
       "<Figure size 432x288 with 1 Axes>"
      ]
     },
     "metadata": {},
     "output_type": "display_data"
    }
   ],
   "source": [
    "val_acc = history2.history[\"val_acc\"]\n",
    "acc = history2.history[\"acc\"]\n",
    "plt.plot(epochs, val_acc, label = \"validation accuracy\")\n",
    "plt.plot(epochs, acc, label = \"training accuracy\")\n",
    "plt.xlabel(\"epochs\")\n",
    "plt.ylabel(\"accuracy\")\n",
    "plt.title(\"Training accuracy vs Validation accuracy\")\n",
    "plt.legend()"
   ]
  },
  {
   "cell_type": "markdown",
   "metadata": {},
   "source": [
    "Overfitting appears to occur around the 10th epoch. We'll retrained Model 2 to the 10th epoch."
   ]
  },
  {
   "cell_type": "code",
   "execution_count": 25,
   "metadata": {},
   "outputs": [
    {
     "name": "stdout",
     "output_type": "stream",
     "text": [
      "Train on 20000 samples, validate on 5000 samples\n",
      "Epoch 1/10\n",
      "20000/20000 [==============================] - 0s 16us/step - loss: 0.6907 - acc: 0.5311 - val_loss: 0.6831 - val_acc: 0.5444\n",
      "Epoch 2/10\n",
      "20000/20000 [==============================] - 0s 10us/step - loss: 0.6509 - acc: 0.7076 - val_loss: 0.6144 - val_acc: 0.7370\n",
      "Epoch 3/10\n",
      "20000/20000 [==============================] - 0s 10us/step - loss: 0.5547 - acc: 0.7948 - val_loss: 0.5130 - val_acc: 0.8002\n",
      "Epoch 4/10\n",
      "20000/20000 [==============================] - 0s 10us/step - loss: 0.4496 - acc: 0.8473 - val_loss: 0.4255 - val_acc: 0.8386\n",
      "Epoch 5/10\n",
      "20000/20000 [==============================] - 0s 10us/step - loss: 0.3675 - acc: 0.8764 - val_loss: 0.3776 - val_acc: 0.8502\n",
      "Epoch 6/10\n",
      "20000/20000 [==============================] - 0s 10us/step - loss: 0.3118 - acc: 0.8912 - val_loss: 0.3451 - val_acc: 0.8592\n",
      "Epoch 7/10\n",
      "20000/20000 [==============================] - 0s 10us/step - loss: 0.2738 - acc: 0.9041 - val_loss: 0.3213 - val_acc: 0.8698\n",
      "Epoch 8/10\n",
      "20000/20000 [==============================] - 0s 12us/step - loss: 0.2441 - acc: 0.9146 - val_loss: 0.2974 - val_acc: 0.8838\n",
      "Epoch 9/10\n",
      "20000/20000 [==============================] - 0s 10us/step - loss: 0.2214 - acc: 0.9236 - val_loss: 0.3139 - val_acc: 0.8702\n",
      "Epoch 10/10\n",
      "20000/20000 [==============================] - 0s 11us/step - loss: 0.2034 - acc: 0.9279 - val_loss: 0.2800 - val_acc: 0.8902\n"
     ]
    }
   ],
   "source": [
    "model2 = Sequential()\n",
    "model2.add(Embedding(10000,8,input_length = maxlength, name = 'embed'))\n",
    "model2.add(Flatten())\n",
    "model2.add(Dense(1, activation = 'sigmoid'))\n",
    "\n",
    "model2.compile(optimizer = 'rmsprop',\n",
    "               loss = 'binary_crossentropy',\n",
    "               metrics = ['accuracy'])\n",
    "\n",
    "history2 = model2.fit(training_input_padded, training_label,\n",
    "                     epochs = 10,\n",
    "                     batch_size = 512,\n",
    "                     validation_split = 0.2)"
   ]
  },
  {
   "cell_type": "markdown",
   "metadata": {},
   "source": [
    "Let's evaluate Model 2 on the test data."
   ]
  },
  {
   "cell_type": "code",
   "execution_count": 26,
   "metadata": {},
   "outputs": [
    {
     "name": "stdout",
     "output_type": "stream",
     "text": [
      "25000/25000 [==============================] - 0s 15us/step\n",
      "['loss', 'acc'] \n",
      " [0.28472590630531314, 0.88388]\n"
     ]
    }
   ],
   "source": [
    "pred2 = model2.evaluate(test_input_padded, test_label)\n",
    "print(model2.metrics_names,\"\\n\",pred2)"
   ]
  },
  {
   "cell_type": "markdown",
   "metadata": {},
   "source": [
    "## 3) Using a pretrained word embedding layer using GloVe"
   ]
  },
  {
   "cell_type": "markdown",
   "metadata": {},
   "source": [
    "The third model will use pretrained word embeddings [GloVe](https://nlp.stanford.edu/projects/glove/). Download glove.6B.100d.txt into the directory and open it."
   ]
  },
  {
   "cell_type": "code",
   "execution_count": 27,
   "metadata": {},
   "outputs": [],
   "source": [
    "with open('./glove.6B.100d.txt') as f:\n",
    "    glove = {}\n",
    "    for line in f:\n",
    "        line = line.split()\n",
    "        word = line[0]\n",
    "        embeddings = np.asarray(line[1:], dtype = 'float32')\n",
    "        glove[word] = embeddings  \n",
    "      "
   ]
  },
  {
   "cell_type": "markdown",
   "metadata": {},
   "source": [
    "Each of the 400,000 words in GloVe is represented by a 100D vector. We'll take a look at the first two words, 'the' and 'if'."
   ]
  },
  {
   "cell_type": "code",
   "execution_count": 28,
   "metadata": {},
   "outputs": [
    {
     "data": {
      "text/plain": [
       "[('the',\n",
       "  array([-0.038194, -0.24487 ,  0.72812 , -0.39961 ,  0.083172,  0.043953,\n",
       "         -0.39141 ,  0.3344  , -0.57545 ,  0.087459,  0.28787 , -0.06731 ,\n",
       "          0.30906 , -0.26384 , -0.13231 , -0.20757 ,  0.33395 , -0.33848 ,\n",
       "         -0.31743 , -0.48336 ,  0.1464  , -0.37304 ,  0.34577 ,  0.052041,\n",
       "          0.44946 , -0.46971 ,  0.02628 , -0.54155 , -0.15518 , -0.14107 ,\n",
       "         -0.039722,  0.28277 ,  0.14393 ,  0.23464 , -0.31021 ,  0.086173,\n",
       "          0.20397 ,  0.52624 ,  0.17164 , -0.082378, -0.71787 , -0.41531 ,\n",
       "          0.20335 , -0.12763 ,  0.41367 ,  0.55187 ,  0.57908 , -0.33477 ,\n",
       "         -0.36559 , -0.54857 , -0.062892,  0.26584 ,  0.30205 ,  0.99775 ,\n",
       "         -0.80481 , -3.0243  ,  0.01254 , -0.36942 ,  2.2167  ,  0.72201 ,\n",
       "         -0.24978 ,  0.92136 ,  0.034514,  0.46745 ,  1.1079  , -0.19358 ,\n",
       "         -0.074575,  0.23353 , -0.052062, -0.22044 ,  0.057162, -0.15806 ,\n",
       "         -0.30798 , -0.41625 ,  0.37972 ,  0.15006 , -0.53212 , -0.2055  ,\n",
       "         -1.2526  ,  0.071624,  0.70565 ,  0.49744 , -0.42063 ,  0.26148 ,\n",
       "         -1.538   , -0.30223 , -0.073438, -0.28312 ,  0.37104 , -0.25217 ,\n",
       "          0.016215, -0.017099, -0.38984 ,  0.87424 , -0.72569 , -0.51058 ,\n",
       "         -0.52028 , -0.1459  ,  0.8278  ,  0.27062 ], dtype=float32)),\n",
       " (',', array([-0.10767  ,  0.11053  ,  0.59812  , -0.54361  ,  0.67396  ,\n",
       "          0.10663  ,  0.038867 ,  0.35481  ,  0.06351  , -0.094189 ,\n",
       "          0.15786  , -0.81665  ,  0.14172  ,  0.21939  ,  0.58505  ,\n",
       "         -0.52158  ,  0.22783  , -0.16642  , -0.68228  ,  0.3587   ,\n",
       "          0.42568  ,  0.19021  ,  0.91963  ,  0.57555  ,  0.46185  ,\n",
       "          0.42363  , -0.095399 , -0.42749  , -0.16567  , -0.056842 ,\n",
       "         -0.29595  ,  0.26037  , -0.26606  , -0.070404 , -0.27662  ,\n",
       "          0.15821  ,  0.69825  ,  0.43081  ,  0.27952  , -0.45437  ,\n",
       "         -0.33801  , -0.58184  ,  0.22364  , -0.5778   , -0.26862  ,\n",
       "         -0.20425  ,  0.56394  , -0.58524  , -0.14365  , -0.64218  ,\n",
       "          0.0054697, -0.35248  ,  0.16162  ,  1.1796   , -0.47674  ,\n",
       "         -2.7553   , -0.1321   , -0.047729 ,  1.0655   ,  1.1034   ,\n",
       "         -0.2208   ,  0.18669  ,  0.13177  ,  0.15117  ,  0.7131   ,\n",
       "         -0.35215  ,  0.91348  ,  0.61783  ,  0.70992  ,  0.23955  ,\n",
       "         -0.14571  , -0.37859  , -0.045959 , -0.47368  ,  0.2385   ,\n",
       "          0.20536  , -0.18996  ,  0.32507  , -1.1112   , -0.36341  ,\n",
       "          0.98679  , -0.084776 , -0.54008  ,  0.11726  , -1.0194   ,\n",
       "         -0.24424  ,  0.12771  ,  0.013884 ,  0.080374 , -0.35414  ,\n",
       "          0.34951  , -0.7226   ,  0.37549  ,  0.4441   , -0.99059  ,\n",
       "          0.61214  , -0.35111  , -0.83155  ,  0.45293  ,  0.082577 ],\n",
       "        dtype=float32))]"
      ]
     },
     "execution_count": 28,
     "metadata": {},
     "output_type": "execute_result"
    }
   ],
   "source": [
    "list(glove.items())[:2]"
   ]
  },
  {
   "cell_type": "markdown",
   "metadata": {},
   "source": [
    "Next, we'll join every word in the dictionary word2index with its counterpart in GloVe. Since our dictionary has 10,000 words, and every word is now represented by a 100D vector, we will now have a 10000 by 100 matrix."
   ]
  },
  {
   "cell_type": "code",
   "execution_count": 29,
   "metadata": {},
   "outputs": [],
   "source": [
    "embedding_matrix = np.zeros((10000,100))\n",
    "for word,index in word2index.items():\n",
    "    if index < 10000:\n",
    "        embedding_vector = glove.get(word,None)\n",
    "        if embedding_vector is not None:\n",
    "            embedding_matrix[index,:]= embedding_vector"
   ]
  },
  {
   "cell_type": "markdown",
   "metadata": {},
   "source": [
    "Model 3 will first have a embedding layer in which the weights will be set using embedding matrix i.e. the GloVe embeddings. It will be flatten and fed into a dense layer, then finally the output layer."
   ]
  },
  {
   "cell_type": "code",
   "execution_count": 30,
   "metadata": {},
   "outputs": [
    {
     "name": "stdout",
     "output_type": "stream",
     "text": [
      "_________________________________________________________________\n",
      "Layer (type)                 Output Shape              Param #   \n",
      "=================================================================\n",
      "embedding_1 (Embedding)      (None, 500, 100)          1000000   \n",
      "_________________________________________________________________\n",
      "flatten_3 (Flatten)          (None, 50000)             0         \n",
      "_________________________________________________________________\n",
      "dense_9 (Dense)              (None, 32)                1600032   \n",
      "_________________________________________________________________\n",
      "dense_10 (Dense)             (None, 1)                 33        \n",
      "=================================================================\n",
      "Total params: 2,600,065\n",
      "Trainable params: 2,600,065\n",
      "Non-trainable params: 0\n",
      "_________________________________________________________________\n"
     ]
    }
   ],
   "source": [
    "model3 = Sequential()\n",
    "model3.add(Embedding(10000,100, input_length = maxlength))\n",
    "model3.add(Flatten())\n",
    "model3.add(Dense(32, activation = 'relu'))\n",
    "model3.add(Dense(1, activation = \"sigmoid\"))\n",
    "model3.summary()"
   ]
  },
  {
   "cell_type": "markdown",
   "metadata": {},
   "source": [
    "Here we set the weights but specify that we shall not train them."
   ]
  },
  {
   "cell_type": "code",
   "execution_count": 31,
   "metadata": {},
   "outputs": [],
   "source": [
    "model3.layers[0].set_weights([embedding_matrix])\n",
    "model3.layers[0].trainable = False"
   ]
  },
  {
   "cell_type": "code",
   "execution_count": 32,
   "metadata": {},
   "outputs": [],
   "source": [
    "model3.compile(optimizer = 'rmsprop',\n",
    "               loss = 'binary_crossentropy',\n",
    "               metrics = ['accuracy'])"
   ]
  },
  {
   "cell_type": "markdown",
   "metadata": {},
   "source": [
    "We shall use the padded inputs \"training_input_padded\" from Model 2 to train it and \"test_input_padded' to test it."
   ]
  },
  {
   "cell_type": "code",
   "execution_count": 33,
   "metadata": {},
   "outputs": [
    {
     "name": "stdout",
     "output_type": "stream",
     "text": [
      "Train on 20000 samples, validate on 5000 samples\n",
      "Epoch 1/20\n",
      "20000/20000 [==============================] - 3s 145us/step - loss: 1.1124 - acc: 0.5020 - val_loss: 0.6932 - val_acc: 0.4938\n",
      "Epoch 2/20\n",
      "20000/20000 [==============================] - 3s 135us/step - loss: 0.6931 - acc: 0.5016 - val_loss: 0.6932 - val_acc: 0.4938\n",
      "Epoch 3/20\n",
      "20000/20000 [==============================] - 3s 139us/step - loss: 0.6938 - acc: 0.5031 - val_loss: 0.6932 - val_acc: 0.4938\n",
      "Epoch 4/20\n",
      "20000/20000 [==============================] - 3s 139us/step - loss: 0.6931 - acc: 0.5016 - val_loss: 0.6932 - val_acc: 0.4938\n",
      "Epoch 5/20\n",
      "20000/20000 [==============================] - 3s 142us/step - loss: 0.6931 - acc: 0.5016 - val_loss: 0.6932 - val_acc: 0.4938\n",
      "Epoch 6/20\n",
      "20000/20000 [==============================] - 3s 141us/step - loss: 0.6931 - acc: 0.5016 - val_loss: 0.6932 - val_acc: 0.4938\n",
      "Epoch 7/20\n",
      "20000/20000 [==============================] - 3s 142us/step - loss: 0.6931 - acc: 0.5016 - val_loss: 0.6932 - val_acc: 0.4938\n",
      "Epoch 8/20\n",
      "20000/20000 [==============================] - 3s 137us/step - loss: 0.6931 - acc: 0.5016 - val_loss: 0.6932 - val_acc: 0.4938\n",
      "Epoch 9/20\n",
      "20000/20000 [==============================] - 3s 141us/step - loss: 0.6931 - acc: 0.5016 - val_loss: 0.6932 - val_acc: 0.4938\n",
      "Epoch 10/20\n",
      "20000/20000 [==============================] - 3s 138us/step - loss: 0.6931 - acc: 0.5016 - val_loss: 0.6932 - val_acc: 0.4938\n",
      "Epoch 11/20\n",
      "20000/20000 [==============================] - 3s 143us/step - loss: 0.6931 - acc: 0.5016 - val_loss: 0.6932 - val_acc: 0.4938\n",
      "Epoch 12/20\n",
      "20000/20000 [==============================] - 3s 145us/step - loss: 0.6931 - acc: 0.5016 - val_loss: 0.6932 - val_acc: 0.4938\n",
      "Epoch 13/20\n",
      "20000/20000 [==============================] - 3s 146us/step - loss: 0.6931 - acc: 0.5016 - val_loss: 0.6932 - val_acc: 0.4938\n",
      "Epoch 14/20\n",
      "20000/20000 [==============================] - 3s 146us/step - loss: 0.6931 - acc: 0.5016 - val_loss: 0.6932 - val_acc: 0.4938\n",
      "Epoch 15/20\n",
      "20000/20000 [==============================] - 3s 137us/step - loss: 0.6931 - acc: 0.5016 - val_loss: 0.6932 - val_acc: 0.4938\n",
      "Epoch 16/20\n",
      "20000/20000 [==============================] - 3s 136us/step - loss: 0.6931 - acc: 0.5016 - val_loss: 0.6932 - val_acc: 0.4938\n",
      "Epoch 17/20\n",
      "20000/20000 [==============================] - 3s 138us/step - loss: 0.6931 - acc: 0.5016 - val_loss: 0.6932 - val_acc: 0.4938\n",
      "Epoch 18/20\n",
      "20000/20000 [==============================] - 3s 136us/step - loss: 0.6931 - acc: 0.5016 - val_loss: 0.6932 - val_acc: 0.4938\n",
      "Epoch 19/20\n",
      "20000/20000 [==============================] - 3s 136us/step - loss: 0.6931 - acc: 0.5016 - val_loss: 0.6932 - val_acc: 0.4938\n",
      "Epoch 20/20\n",
      "20000/20000 [==============================] - 3s 142us/step - loss: 0.6931 - acc: 0.5016 - val_loss: 0.6932 - val_acc: 0.4938\n"
     ]
    }
   ],
   "source": [
    "history3 = model3.fit(training_input_padded,\n",
    "                     training_label,\n",
    "                     epochs = 20,\n",
    "                     batch_size = 512,\n",
    "                     validation_split = 0.2)"
   ]
  },
  {
   "cell_type": "code",
   "execution_count": 74,
   "metadata": {},
   "outputs": [
    {
     "data": {
      "text/plain": [
       "<matplotlib.legend.Legend at 0x7f94b58ab0b8>"
      ]
     },
     "execution_count": 74,
     "metadata": {},
     "output_type": "execute_result"
    },
    {
     "data": {
      "image/png": "[encoded data removed]",
      "text/plain": [
       "<Figure size 432x288 with 1 Axes>"
      ]
     },
     "metadata": {},
     "output_type": "display_data"
    }
   ],
   "source": [
    "val_loss = history3.history['val_loss']\n",
    "loss = history3.history['loss']\n",
    "epochs = range(1, len(val_loss)+1)\n",
    "plt.plot(epochs, val_loss, label = \"validation loss\")\n",
    "plt.plot(epochs, loss, label = 'training loss')\n",
    "plt.title(\"Training loss vd Validation loss\")\n",
    "plt.xlabel(\"epochs\")\n",
    "plt.ylabel(\"loss\")\n",
    "plt.legend()"
   ]
  },
  {
   "cell_type": "code",
   "execution_count": 75,
   "metadata": {},
   "outputs": [
    {
     "data": {
      "text/plain": [
       "<matplotlib.legend.Legend at 0x7f94b58100b8>"
      ]
     },
     "execution_count": 75,
     "metadata": {},
     "output_type": "execute_result"
    },
    {
     "data": {
      "image/png": "[encoded data removed]",
      "text/plain": [
       "<Figure size 432x288 with 1 Axes>"
      ]
     },
     "metadata": {},
     "output_type": "display_data"
    }
   ],
   "source": [
    "val_acc = history3.history[\"val_acc\"]\n",
    "acc = history3.history[\"acc\"]\n",
    "plt.plot(epochs, val_acc, label = \"validation accuracy\")\n",
    "plt.plot(epochs, acc, label = \"training accuracy\")\n",
    "plt.xlabel(\"epochs\")\n",
    "plt.ylabel(\"accuracy\")\n",
    "plt.title(\"Training accuracy vs Validation accuracy\")\n",
    "plt.legend()"
   ]
  },
  {
   "cell_type": "markdown",
   "metadata": {},
   "source": [
    "Both accuracy and loss appear to be volatile, and the best choice seems to be retraining Model 3 to around 18 epochs."
   ]
  },
  {
   "cell_type": "code",
   "execution_count": 36,
   "metadata": {},
   "outputs": [
    {
     "name": "stdout",
     "output_type": "stream",
     "text": [
      "Train on 20000 samples, validate on 5000 samples\n",
      "Epoch 1/18\n",
      "20000/20000 [==============================] - 3s 154us/step - loss: 1.0681 - acc: 0.4980 - val_loss: 0.6932 - val_acc: 0.4938\n",
      "Epoch 2/18\n",
      "20000/20000 [==============================] - 3s 145us/step - loss: 0.6974 - acc: 0.5010 - val_loss: 0.6932 - val_acc: 0.4938\n",
      "Epoch 3/18\n",
      "20000/20000 [==============================] - 3s 141us/step - loss: 0.6932 - acc: 0.4996 - val_loss: 0.6932 - val_acc: 0.4938\n",
      "Epoch 4/18\n",
      "20000/20000 [==============================] - 3s 139us/step - loss: 0.6926 - acc: 0.5186 - val_loss: 0.6925 - val_acc: 0.5188\n",
      "Epoch 5/18\n",
      "20000/20000 [==============================] - 3s 138us/step - loss: 0.6861 - acc: 0.5574 - val_loss: 0.6896 - val_acc: 0.5382\n",
      "Epoch 6/18\n",
      "20000/20000 [==============================] - 3s 139us/step - loss: 0.6751 - acc: 0.5959 - val_loss: 0.7015 - val_acc: 0.5260\n",
      "Epoch 7/18\n",
      "20000/20000 [==============================] - 3s 136us/step - loss: 0.6608 - acc: 0.6203 - val_loss: 0.6872 - val_acc: 0.5436\n",
      "Epoch 8/18\n",
      "20000/20000 [==============================] - 3s 136us/step - loss: 0.6504 - acc: 0.6421 - val_loss: 0.6922 - val_acc: 0.5194\n",
      "Epoch 9/18\n",
      "20000/20000 [==============================] - 3s 135us/step - loss: 0.6315 - acc: 0.6696 - val_loss: 0.6902 - val_acc: 0.5548\n",
      "Epoch 10/18\n",
      "20000/20000 [==============================] - 3s 136us/step - loss: 0.6233 - acc: 0.6717 - val_loss: 0.7150 - val_acc: 0.5462\n",
      "Epoch 11/18\n",
      "20000/20000 [==============================] - 3s 136us/step - loss: 0.6120 - acc: 0.6847 - val_loss: 0.6844 - val_acc: 0.5708\n",
      "Epoch 12/18\n",
      "20000/20000 [==============================] - 3s 136us/step - loss: 0.6023 - acc: 0.6946 - val_loss: 0.7560 - val_acc: 0.5528\n",
      "Epoch 13/18\n",
      "20000/20000 [==============================] - 3s 136us/step - loss: 0.5906 - acc: 0.7071 - val_loss: 0.7808 - val_acc: 0.5520\n",
      "Epoch 14/18\n",
      "20000/20000 [==============================] - 3s 136us/step - loss: 0.5787 - acc: 0.7172 - val_loss: 0.6908 - val_acc: 0.5732\n",
      "Epoch 15/18\n",
      "20000/20000 [==============================] - 3s 136us/step - loss: 0.5694 - acc: 0.7273 - val_loss: 0.6869 - val_acc: 0.5644\n",
      "Epoch 16/18\n",
      "20000/20000 [==============================] - 3s 136us/step - loss: 0.5576 - acc: 0.7360 - val_loss: 0.7297 - val_acc: 0.5712\n",
      "Epoch 17/18\n",
      "20000/20000 [==============================] - 3s 136us/step - loss: 0.5557 - acc: 0.7333 - val_loss: 0.6972 - val_acc: 0.5340\n",
      "Epoch 18/18\n",
      "20000/20000 [==============================] - 3s 135us/step - loss: 0.5368 - acc: 0.7560 - val_loss: 0.8187 - val_acc: 0.5580\n"
     ]
    }
   ],
   "source": [
    "model3 = Sequential()\n",
    "model3.add(Embedding(10000,100, input_length = maxlength))\n",
    "model3.add(Flatten())\n",
    "model3.add(Dense(32, activation = 'relu'))\n",
    "model3.add(Dense(1, activation = \"sigmoid\"))\n",
    "\n",
    "model3.layers[0].set_weights([embedding_matrix])\n",
    "model3.layers[0].trainable = False\n",
    "\n",
    "model3.compile(optimizer = 'rmsprop',\n",
    "               loss = 'binary_crossentropy',\n",
    "               metrics = ['accuracy'])\n",
    "\n",
    "\n",
    "history3 = model3.fit(training_input_padded,\n",
    "                     training_label,\n",
    "                     epochs = 18,\n",
    "                     batch_size = 512,\n",
    "                     validation_split = 0.2)"
   ]
  },
  {
   "cell_type": "markdown",
   "metadata": {},
   "source": [
    "Let's evaluate Model 3 on the test data."
   ]
  },
  {
   "cell_type": "code",
   "execution_count": 37,
   "metadata": {},
   "outputs": [
    {
     "name": "stdout",
     "output_type": "stream",
     "text": [
      "25000/25000 [==============================] - 6s 253us/step\n",
      "['loss', 'acc'] \n",
      " [0.8222982657623291, 0.55028]\n"
     ]
    }
   ],
   "source": [
    "pred3 = model3.evaluate(test_input_padded, test_label)\n",
    "print(model3.metrics_names,\"\\n\",pred3)"
   ]
  },
  {
   "cell_type": "markdown",
   "metadata": {},
   "source": [
    "With a dismal accuracy of around 53%, it appears that the GloVe embeddings might be to generic for the purpose of classifying movie reviews. Although very useful when there is not enough training data, pretrained word embeddings are trained for generic context, and sometimes do not fit specific, narrow objectives very well, in this case reviewing movies. "
   ]
  },
  {
   "cell_type": "markdown",
   "metadata": {},
   "source": [
    "## 4) Recurrent Network RNN"
   ]
  },
  {
   "cell_type": "markdown",
   "metadata": {},
   "source": [
    "Let's see if the order sequence of how the words in the review appear will help in classifying the movie reviews. Model 4 will be employ an untrained embedding layer followed by a simple RNN, and lastly the output layer. The same padded inputs used in Model 2 and 3 shall be fed into this model."
   ]
  },
  {
   "cell_type": "code",
   "execution_count": 38,
   "metadata": {},
   "outputs": [],
   "source": [
    "from keras.layers import SimpleRNN"
   ]
  },
  {
   "cell_type": "code",
   "execution_count": 39,
   "metadata": {},
   "outputs": [],
   "source": [
    "model4 = Sequential()\n",
    "model4.add(Embedding(10000, 32, input_length = maxlength))\n",
    "model4.add(SimpleRNN(32))\n",
    "model4.add(Dense(1, activation = 'sigmoid'))"
   ]
  },
  {
   "cell_type": "code",
   "execution_count": 40,
   "metadata": {},
   "outputs": [],
   "source": [
    "model4.compile(optimizer = 'rmsprop',\n",
    "               loss = 'binary_crossentropy',\n",
    "               metrics = ['acc']\n",
    "              )"
   ]
  },
  {
   "cell_type": "code",
   "execution_count": 41,
   "metadata": {},
   "outputs": [
    {
     "name": "stdout",
     "output_type": "stream",
     "text": [
      "Train on 20000 samples, validate on 5000 samples\n",
      "Epoch 1/15\n",
      "20000/20000 [==============================] - 8s 391us/step - loss: 0.6881 - acc: 0.5414 - val_loss: 0.6793 - val_acc: 0.5650\n",
      "Epoch 2/15\n",
      "20000/20000 [==============================] - 8s 383us/step - loss: 0.5895 - acc: 0.7251 - val_loss: 0.5721 - val_acc: 0.7194\n",
      "Epoch 3/15\n",
      "20000/20000 [==============================] - 8s 383us/step - loss: 0.4317 - acc: 0.8275 - val_loss: 0.5439 - val_acc: 0.7242\n",
      "Epoch 4/15\n",
      "20000/20000 [==============================] - 8s 380us/step - loss: 0.3311 - acc: 0.8697 - val_loss: 0.3827 - val_acc: 0.8408\n",
      "Epoch 5/15\n",
      "20000/20000 [==============================] - 8s 384us/step - loss: 0.2573 - acc: 0.9068 - val_loss: 0.4232 - val_acc: 0.8270\n",
      "Epoch 6/15\n",
      "20000/20000 [==============================] - 8s 382us/step - loss: 0.2237 - acc: 0.9198 - val_loss: 0.4128 - val_acc: 0.8298\n",
      "Epoch 7/15\n",
      "20000/20000 [==============================] - 8s 384us/step - loss: 0.1855 - acc: 0.9350 - val_loss: 0.4465 - val_acc: 0.8248\n",
      "Epoch 8/15\n",
      "20000/20000 [==============================] - 8s 408us/step - loss: 0.1588 - acc: 0.9453 - val_loss: 0.3821 - val_acc: 0.8476\n",
      "Epoch 9/15\n",
      "20000/20000 [==============================] - 8s 383us/step - loss: 0.1080 - acc: 0.9671 - val_loss: 0.4107 - val_acc: 0.8562\n",
      "Epoch 10/15\n",
      "20000/20000 [==============================] - 7s 374us/step - loss: 0.0893 - acc: 0.9747 - val_loss: 0.4645 - val_acc: 0.8316\n",
      "Epoch 11/15\n",
      "20000/20000 [==============================] - 8s 400us/step - loss: 0.0748 - acc: 0.9791 - val_loss: 0.4316 - val_acc: 0.8544\n",
      "Epoch 12/15\n",
      "20000/20000 [==============================] - 8s 390us/step - loss: 0.0542 - acc: 0.9854 - val_loss: 0.5859 - val_acc: 0.8118\n",
      "Epoch 13/15\n",
      "20000/20000 [==============================] - 8s 390us/step - loss: 0.0835 - acc: 0.9719 - val_loss: 0.5111 - val_acc: 0.8248\n",
      "Epoch 14/15\n",
      "20000/20000 [==============================] - 8s 393us/step - loss: 0.0381 - acc: 0.9907 - val_loss: 0.4862 - val_acc: 0.8402\n",
      "Epoch 15/15\n",
      "20000/20000 [==============================] - 8s 421us/step - loss: 0.0195 - acc: 0.9963 - val_loss: 0.5839 - val_acc: 0.7906\n"
     ]
    }
   ],
   "source": [
    "history4 = model4.fit(training_input_padded,\n",
    "                     training_label,\n",
    "                     epochs = 15,\n",
    "                     batch_size = 512,\n",
    "                     validation_split = 0.2                   \n",
    "                    )"
   ]
  },
  {
   "cell_type": "code",
   "execution_count": 42,
   "metadata": {},
   "outputs": [
    {
     "data": {
      "text/plain": [
       "<matplotlib.legend.Legend at 0x7f94b8787b70>"
      ]
     },
     "execution_count": 42,
     "metadata": {},
     "output_type": "execute_result"
    },
    {
     "data": {
      "image/png": "[encoded data removed]",
      "text/plain": [
       "<Figure size 432x288 with 1 Axes>"
      ]
     },
     "metadata": {},
     "output_type": "display_data"
    }
   ],
   "source": [
    "val_loss = history4.history['val_loss']\n",
    "loss = history4.history['loss']\n",
    "epochs = range(1, len(val_loss)+1)\n",
    "plt.plot(epochs, val_loss, label = \"validation loss\")\n",
    "plt.plot(epochs, loss, label = 'training loss')\n",
    "plt.title(\"Training loss vd Validation loss\")\n",
    "plt.xlabel(\"epochs\")\n",
    "plt.ylabel(\"loss\")\n",
    "plt.legend()"
   ]
  },
  {
   "cell_type": "code",
   "execution_count": 43,
   "metadata": {},
   "outputs": [
    {
     "data": {
      "text/plain": [
       "<matplotlib.legend.Legend at 0x7f94b87b4748>"
      ]
     },
     "execution_count": 43,
     "metadata": {},
     "output_type": "execute_result"
    },
    {
     "data": {
      "image/png": "[encoded data removed]",
      "text/plain": [
       "<Figure size 432x288 with 1 Axes>"
      ]
     },
     "metadata": {},
     "output_type": "display_data"
    }
   ],
   "source": [
    "val_acc = history4.history[\"val_acc\"]\n",
    "acc = history4.history[\"acc\"]\n",
    "plt.plot(epochs, val_acc, label = \"validation accuracy\")\n",
    "plt.plot(epochs, acc, label = \"training accuracy\")\n",
    "plt.xlabel(\"epochs\")\n",
    "plt.ylabel(\"accuracy\")\n",
    "plt.title(\"Training accuracy vs Validation accuracy\")\n",
    "plt.legend()"
   ]
  },
  {
   "cell_type": "markdown",
   "metadata": {},
   "source": [
    "We get the best loss and accuracy pair around the 8th epoch, so Model 4 shall be retrained for 8 epochs."
   ]
  },
  {
   "cell_type": "code",
   "execution_count": 44,
   "metadata": {},
   "outputs": [
    {
     "name": "stdout",
     "output_type": "stream",
     "text": [
      "Train on 20000 samples, validate on 5000 samples\n",
      "Epoch 1/8\n",
      "20000/20000 [==============================] - 8s 401us/step - loss: 0.6825 - acc: 0.5562 - val_loss: 0.6479 - val_acc: 0.6662\n",
      "Epoch 2/8\n",
      "20000/20000 [==============================] - 8s 386us/step - loss: 0.5597 - acc: 0.7582 - val_loss: 0.5235 - val_acc: 0.7636\n",
      "Epoch 3/8\n",
      "20000/20000 [==============================] - 8s 376us/step - loss: 0.4587 - acc: 0.8054 - val_loss: 0.4640 - val_acc: 0.8008\n",
      "Epoch 4/8\n",
      "20000/20000 [==============================] - 8s 380us/step - loss: 0.3542 - acc: 0.8672 - val_loss: 0.4986 - val_acc: 0.7622\n",
      "Epoch 5/8\n",
      "20000/20000 [==============================] - 8s 376us/step - loss: 0.3041 - acc: 0.8876 - val_loss: 0.4046 - val_acc: 0.8338\n",
      "Epoch 6/8\n",
      "20000/20000 [==============================] - 7s 374us/step - loss: 0.2431 - acc: 0.9127 - val_loss: 0.4502 - val_acc: 0.8112\n",
      "Epoch 7/8\n",
      "20000/20000 [==============================] - 7s 373us/step - loss: 0.1853 - acc: 0.9389 - val_loss: 0.4022 - val_acc: 0.8334\n",
      "Epoch 8/8\n",
      "20000/20000 [==============================] - 8s 376us/step - loss: 0.1444 - acc: 0.9556 - val_loss: 0.5175 - val_acc: 0.7708\n"
     ]
    }
   ],
   "source": [
    "model4 = Sequential()\n",
    "model4.add(Embedding(10000, 32, input_length = maxlength))\n",
    "model4.add(SimpleRNN(32))\n",
    "model4.add(Dense(1, activation = 'sigmoid'))\n",
    "\n",
    "model4.compile(optimizer = 'rmsprop',\n",
    "               loss = 'binary_crossentropy',\n",
    "               metrics = ['acc']\n",
    "              )\n",
    "\n",
    "history4 = model4.fit(training_input_padded,\n",
    "                     training_label,\n",
    "                     epochs = 8,\n",
    "                     batch_size = 512,\n",
    "                     validation_split = 0.2                   \n",
    "                    )"
   ]
  },
  {
   "cell_type": "markdown",
   "metadata": {},
   "source": [
    "Let's evaluate Model 4 on the test data."
   ]
  },
  {
   "cell_type": "code",
   "execution_count": 45,
   "metadata": {},
   "outputs": [
    {
     "name": "stdout",
     "output_type": "stream",
     "text": [
      "25000/25000 [==============================] - 9s 368us/step\n",
      "['loss', 'acc'] \n",
      " [0.5083764553546906, 0.77108]\n"
     ]
    }
   ],
   "source": [
    "pred4 = model4.evaluate(test_input_padded, test_label)\n",
    "print(model4.metrics_names,\"\\n\",pred4)"
   ]
  },
  {
   "cell_type": "markdown",
   "metadata": {},
   "source": [
    "Not a lot of improvements despite the added complexity and longer training time. RNN appears to be unable to remember long sequences as it is often being plagued by the vanishing gradient problem. Let's employ a more sophisticated model next, one that is able to capture longer term dependancies using LSTM."
   ]
  },
  {
   "cell_type": "markdown",
   "metadata": {},
   "source": [
    "## 5) LSTM"
   ]
  },
  {
   "cell_type": "markdown",
   "metadata": {},
   "source": [
    "Let's see if using Long-Short Term Memory LSTM model will help. Model 5 is just like model 4, except we replaced the SimpleRNN layer with a LSTM layer."
   ]
  },
  {
   "cell_type": "code",
   "execution_count": 46,
   "metadata": {},
   "outputs": [],
   "source": [
    "from keras.layers import LSTM"
   ]
  },
  {
   "cell_type": "code",
   "execution_count": 47,
   "metadata": {},
   "outputs": [],
   "source": [
    "model5 = Sequential()\n",
    "model5.add(Embedding(10000, 32, input_length = maxlength))\n",
    "model5.add(LSTM(32))\n",
    "model5.add(Dense(1, activation = 'sigmoid'))"
   ]
  },
  {
   "cell_type": "code",
   "execution_count": 48,
   "metadata": {},
   "outputs": [],
   "source": [
    "model5.compile(optimizer = 'rmsprop',\n",
    "               loss = 'binary_crossentropy',\n",
    "               metrics = ['acc']\n",
    "              )"
   ]
  },
  {
   "cell_type": "code",
   "execution_count": 49,
   "metadata": {},
   "outputs": [
    {
     "name": "stdout",
     "output_type": "stream",
     "text": [
      "Train on 20000 samples, validate on 5000 samples\n",
      "Epoch 1/15\n",
      "20000/20000 [==============================] - 16s 814us/step - loss: 0.6503 - acc: 0.6613 - val_loss: 0.6058 - val_acc: 0.6830\n",
      "Epoch 2/15\n",
      "20000/20000 [==============================] - 16s 777us/step - loss: 0.4756 - acc: 0.8127 - val_loss: 0.4386 - val_acc: 0.8416\n",
      "Epoch 3/15\n",
      "20000/20000 [==============================] - 15s 755us/step - loss: 0.3558 - acc: 0.8691 - val_loss: 0.3955 - val_acc: 0.8320\n",
      "Epoch 4/15\n",
      "20000/20000 [==============================] - 15s 758us/step - loss: 0.2898 - acc: 0.8940 - val_loss: 0.3719 - val_acc: 0.8498\n",
      "Epoch 5/15\n",
      "20000/20000 [==============================] - 15s 760us/step - loss: 0.2439 - acc: 0.9119 - val_loss: 0.3233 - val_acc: 0.8690\n",
      "Epoch 6/15\n",
      "20000/20000 [==============================] - 15s 758us/step - loss: 0.2178 - acc: 0.9191 - val_loss: 0.3148 - val_acc: 0.8648\n",
      "Epoch 7/15\n",
      "20000/20000 [==============================] - 16s 794us/step - loss: 0.1893 - acc: 0.9319 - val_loss: 0.4860 - val_acc: 0.7794\n",
      "Epoch 8/15\n",
      "20000/20000 [==============================] - 16s 796us/step - loss: 0.1910 - acc: 0.9317 - val_loss: 0.3185 - val_acc: 0.8786\n",
      "Epoch 9/15\n",
      "20000/20000 [==============================] - 17s 835us/step - loss: 0.1678 - acc: 0.9405 - val_loss: 0.3084 - val_acc: 0.8796\n",
      "Epoch 10/15\n",
      "20000/20000 [==============================] - 16s 808us/step - loss: 0.1449 - acc: 0.9502 - val_loss: 0.4262 - val_acc: 0.8768\n",
      "Epoch 11/15\n",
      "20000/20000 [==============================] - 15s 763us/step - loss: 0.1430 - acc: 0.9495 - val_loss: 0.3175 - val_acc: 0.8808\n",
      "Epoch 12/15\n",
      "20000/20000 [==============================] - 15s 743us/step - loss: 0.1296 - acc: 0.9543 - val_loss: 0.3436 - val_acc: 0.8764\n",
      "Epoch 13/15\n",
      "20000/20000 [==============================] - 15s 731us/step - loss: 0.1258 - acc: 0.9585 - val_loss: 0.4065 - val_acc: 0.8812\n",
      "Epoch 14/15\n",
      "20000/20000 [==============================] - 14s 716us/step - loss: 0.1219 - acc: 0.9570 - val_loss: 0.4037 - val_acc: 0.8660\n",
      "Epoch 15/15\n",
      "20000/20000 [==============================] - 14s 694us/step - loss: 0.1069 - acc: 0.9642 - val_loss: 0.3981 - val_acc: 0.8794\n"
     ]
    }
   ],
   "source": [
    "history5 = model5.fit(training_input_padded,\n",
    "                     training_label,\n",
    "                     epochs = 15,\n",
    "                     batch_size = 512,\n",
    "                     validation_split = 0.2                   \n",
    "                    )"
   ]
  },
  {
   "cell_type": "code",
   "execution_count": 50,
   "metadata": {},
   "outputs": [
    {
     "data": {
      "text/plain": [
       "<matplotlib.legend.Legend at 0x7f94b7a02048>"
      ]
     },
     "execution_count": 50,
     "metadata": {},
     "output_type": "execute_result"
    },
    {
     "data": {
      "image/png": "[encoded data removed]",
      "text/plain": [
       "<Figure size 432x288 with 1 Axes>"
      ]
     },
     "metadata": {},
     "output_type": "display_data"
    }
   ],
   "source": [
    "val_loss = history5.history['val_loss']\n",
    "loss = history5.history['loss']\n",
    "epochs = range(1, len(val_loss)+1)\n",
    "plt.plot(epochs, val_loss, label = \"validation loss\")\n",
    "plt.plot(epochs, loss, label = 'training loss')\n",
    "plt.title(\"Training loss vd Validation loss\")\n",
    "plt.xlabel(\"epochs\")\n",
    "plt.ylabel(\"loss\")\n",
    "plt.legend()"
   ]
  },
  {
   "cell_type": "code",
   "execution_count": 51,
   "metadata": {},
   "outputs": [
    {
     "data": {
      "text/plain": [
       "<matplotlib.legend.Legend at 0x7f94b7a1c438>"
      ]
     },
     "execution_count": 51,
     "metadata": {},
     "output_type": "execute_result"
    },
    {
     "data": {
      "image/png": "[encoded data removed]",
      "text/plain": [
       "<Figure size 432x288 with 1 Axes>"
      ]
     },
     "metadata": {},
     "output_type": "display_data"
    }
   ],
   "source": [
    "val_acc = history5.history[\"val_acc\"]\n",
    "acc = history5.history[\"acc\"]\n",
    "plt.plot(epochs, val_acc, label = \"validation accuracy\")\n",
    "plt.plot(epochs, acc, label = \"training accuracy\")\n",
    "plt.xlabel(\"epochs\")\n",
    "plt.ylabel(\"accuracy\")\n",
    "plt.title(\"Training accuracy vs Validation accuracy\")\n",
    "plt.legend()"
   ]
  },
  {
   "cell_type": "markdown",
   "metadata": {},
   "source": [
    "Very volatile accuracy and loss. We shall retrain Model 5 till the 7th epoch."
   ]
  },
  {
   "cell_type": "code",
   "execution_count": 52,
   "metadata": {},
   "outputs": [
    {
     "name": "stdout",
     "output_type": "stream",
     "text": [
      "Train on 20000 samples, validate on 5000 samples\n",
      "Epoch 1/7\n",
      "20000/20000 [==============================] - 15s 770us/step - loss: 0.6207 - acc: 0.6868 - val_loss: 0.4897 - val_acc: 0.8090\n",
      "Epoch 2/7\n",
      "20000/20000 [==============================] - 15s 761us/step - loss: 0.4206 - acc: 0.8313 - val_loss: 0.3905 - val_acc: 0.8466\n",
      "Epoch 3/7\n",
      "20000/20000 [==============================] - 14s 724us/step - loss: 0.3255 - acc: 0.8776 - val_loss: 0.4559 - val_acc: 0.8398\n",
      "Epoch 4/7\n",
      "20000/20000 [==============================] - 15s 748us/step - loss: 0.2758 - acc: 0.8959 - val_loss: 0.3234 - val_acc: 0.8672\n",
      "Epoch 5/7\n",
      "20000/20000 [==============================] - 14s 704us/step - loss: 0.2449 - acc: 0.9067 - val_loss: 0.3776 - val_acc: 0.8372\n",
      "Epoch 6/7\n",
      "20000/20000 [==============================] - 14s 712us/step - loss: 0.2044 - acc: 0.9246 - val_loss: 0.3122 - val_acc: 0.8780\n",
      "Epoch 7/7\n",
      "20000/20000 [==============================] - 14s 713us/step - loss: 0.1992 - acc: 0.9252 - val_loss: 0.4929 - val_acc: 0.8426\n"
     ]
    }
   ],
   "source": [
    "model5 = Sequential()\n",
    "model5.add(Embedding(10000, 32, input_length = maxlength))\n",
    "model5.add(LSTM(32))\n",
    "model5.add(Dense(1, activation = 'sigmoid'))\n",
    "\n",
    "model5.compile(optimizer = 'rmsprop',\n",
    "               loss = 'binary_crossentropy',\n",
    "               metrics = ['acc']\n",
    "              )\n",
    "\n",
    "history5 = model5.fit(training_input_padded,\n",
    "                     training_label,\n",
    "                     epochs = 7,\n",
    "                     batch_size = 512,\n",
    "                     validation_split = 0.2                   \n",
    "                    )"
   ]
  },
  {
   "cell_type": "markdown",
   "metadata": {},
   "source": [
    "Let's evaluate Model 5 on the test data."
   ]
  },
  {
   "cell_type": "code",
   "execution_count": 53,
   "metadata": {},
   "outputs": [
    {
     "name": "stdout",
     "output_type": "stream",
     "text": [
      "25000/25000 [==============================] - 17s 691us/step\n",
      "['loss', 'acc'] \n",
      " [0.5568760405921936, 0.818]\n"
     ]
    }
   ],
   "source": [
    "pred5 = model5.evaluate(test_input_padded, test_label)\n",
    "print(model5.metrics_names,\"\\n\",pred5)"
   ]
  },
  {
   "cell_type": "markdown",
   "metadata": {},
   "source": [
    "Despite taking more time to train, no significant improvements seen from Model 5 over Model 1. "
   ]
  },
  {
   "cell_type": "markdown",
   "metadata": {},
   "source": [
    "Let's tabulate the results of these 5 models, and compare them using plot.\n",
    "\n"
   ]
  },
  {
   "cell_type": "code",
   "execution_count": 79,
   "metadata": {},
   "outputs": [
    {
     "data": {
      "text/plain": [
       "<matplotlib.axes._subplots.AxesSubplot at 0x7f94b56b23c8>"
      ]
     },
     "execution_count": 79,
     "metadata": {},
     "output_type": "execute_result"
    },
    {
     "data": {
      "image/png": "[encoded data removed]",
      "text/plain": [
       "<Figure size 1152x288 with 1 Axes>"
      ]
     },
     "metadata": {},
     "output_type": "display_data"
    }
   ],
   "source": [
    "import pandas as pd\n",
    "\n",
    "df = pd.DataFrame(index = [\"Model 1: Dense\",\"Model 2: Embeddings\", \n",
    "                           \"Model 3: GloVe\", \"Model 4: RNN\", \n",
    "                           \"Model 5: LSTM\"],\n",
    "                  data = {\"Loss\": [pred1[0],pred2[0],pred3[0],pred4[0],pred5[0]],\n",
    "                         \"Accuracy\": [pred1[1],pred2[1],pred3[1],pred4[1],pred5[1]]})\n",
    "\n",
    "color = ['0.2','0.7']\n",
    "df.plot(kind = 'bar', color = color, figsize = (16,4), \n",
    "        title = \"Comparing Loss and Accuracy of Models\")"
   ]
  },
  {
   "cell_type": "markdown",
   "metadata": {},
   "source": [
    "From the plot, it seems like the Dense Net did very well for this task. As Chollet stated in his book, how words followed one another in a movie review does not appear to add information regarding whether the review is positive or negative. More importantly, it's whether positive words or negative words appear in it that determines if the review is positive or negative.  \n",
    "  \n",
    "## Improving Dense Net  \n",
    "    \n",
    "Let's see if we can improve the Dense Net by tuning its hyper-parameters. "
   ]
  },
  {
   "cell_type": "markdown",
   "metadata": {},
   "source": [
    "#### i) Using 3 hidden layers  \n",
    "Instead of 2 hidden layers, we will add one more layer. "
   ]
  },
  {
   "cell_type": "code",
   "execution_count": 54,
   "metadata": {},
   "outputs": [
    {
     "name": "stdout",
     "output_type": "stream",
     "text": [
      "Train on 20000 samples, validate on 5000 samples\n",
      "Epoch 1/10\n",
      "20000/20000 [==============================] - 2s 84us/step - loss: 0.4810 - acc: 0.7989 - val_loss: 0.3312 - val_acc: 0.8814\n",
      "Epoch 2/10\n",
      "20000/20000 [==============================] - 1s 60us/step - loss: 0.2706 - acc: 0.9057 - val_loss: 0.2756 - val_acc: 0.8908\n",
      "Epoch 3/10\n",
      "20000/20000 [==============================] - 1s 51us/step - loss: 0.1977 - acc: 0.9307 - val_loss: 0.2933 - val_acc: 0.8840\n",
      "Epoch 4/10\n",
      "20000/20000 [==============================] - 1s 61us/step - loss: 0.1596 - acc: 0.9444 - val_loss: 0.3122 - val_acc: 0.8810\n",
      "Epoch 5/10\n",
      "20000/20000 [==============================] - 1s 52us/step - loss: 0.1353 - acc: 0.9528 - val_loss: 0.3916 - val_acc: 0.8652\n",
      "Epoch 6/10\n",
      "20000/20000 [==============================] - 1s 60us/step - loss: 0.1150 - acc: 0.9600 - val_loss: 0.3665 - val_acc: 0.8788\n",
      "Epoch 7/10\n",
      "20000/20000 [==============================] - 1s 51us/step - loss: 0.0928 - acc: 0.9685 - val_loss: 0.3814 - val_acc: 0.8762\n",
      "Epoch 8/10\n",
      "20000/20000 [==============================] - 1s 51us/step - loss: 0.0805 - acc: 0.9726 - val_loss: 0.5136 - val_acc: 0.8596\n",
      "Epoch 9/10\n",
      "20000/20000 [==============================] - 1s 56us/step - loss: 0.0713 - acc: 0.9772 - val_loss: 0.4508 - val_acc: 0.8754\n",
      "Epoch 10/10\n",
      "20000/20000 [==============================] - 1s 52us/step - loss: 0.0518 - acc: 0.9847 - val_loss: 0.4604 - val_acc: 0.8768\n"
     ]
    }
   ],
   "source": [
    "model6 = Sequential()\n",
    "model6.add(Dense(16, activation= \"relu\", input_shape = (10000, )))\n",
    "model6.add(Dense(16, activation = \"relu\")) #  added 1 more layer\n",
    "model6.add(Dense(16, activation = \"relu\"))\n",
    "model6.add(Dense(1, activation = \"sigmoid\"))\n",
    "\n",
    "model6.compile(optimizer = \"rmsprop\",\n",
    "               loss = 'binary_crossentropy',\n",
    "               metrics = ['accuracy'])\n",
    "\n",
    "history6 = model6.fit(training_input_binary_index, \n",
    "                    training_label, \n",
    "                    epochs = 10, \n",
    "                    batch_size = 512, \n",
    "                    validation_split = 0.2)"
   ]
  },
  {
   "cell_type": "code",
   "execution_count": 55,
   "metadata": {},
   "outputs": [
    {
     "name": "stdout",
     "output_type": "stream",
     "text": [
      "25000/25000 [==============================] - 4s 168us/step\n",
      "['loss', 'acc'] \n",
      " [0.48547552971124647, 0.86412]\n"
     ]
    },
    {
     "data": {
      "image/png": "[encoded data removed]",
      "text/plain": [
       "<Figure size 432x288 with 1 Axes>"
      ]
     },
     "metadata": {},
     "output_type": "display_data"
    }
   ],
   "source": [
    "val_loss = history6.history['val_loss']\n",
    "loss = history6.history['loss']\n",
    "epochs = range(1, len(val_loss)+1)\n",
    "plt.plot(epochs, val_loss, label = \"validation loss\")\n",
    "plt.plot(epochs, loss, label = 'training loss')\n",
    "plt.title(\"Training loss vd Validation loss\")\n",
    "plt.xlabel(\"epochs\")\n",
    "plt.ylabel(\"loss\")\n",
    "plt.legend()\n",
    "\n",
    "val_acc = history6.history[\"val_acc\"]\n",
    "acc = history6.history[\"acc\"]\n",
    "plt.plot(epochs, val_acc, label = \"validation accuracy\")\n",
    "plt.plot(epochs, acc, label = \"training accuracy\")\n",
    "plt.xlabel(\"epochs\")\n",
    "plt.ylabel(\"accuracy\")\n",
    "plt.title(\"Training accuracy vs Validation accuracy\")\n",
    "plt.legend()\n",
    "\n",
    "pred6 = model6.evaluate(test_input_binary_index, test_label)\n",
    "print(model6.metrics_names,\"\\n\",pred6)"
   ]
  },
  {
   "cell_type": "markdown",
   "metadata": {},
   "source": [
    "#### ii) Using more hidden units  \n",
    "We will use 64 hidden nodes instead of 16."
   ]
  },
  {
   "cell_type": "code",
   "execution_count": 56,
   "metadata": {},
   "outputs": [
    {
     "name": "stdout",
     "output_type": "stream",
     "text": [
      "Train on 20000 samples, validate on 5000 samples\n",
      "Epoch 1/10\n",
      "20000/20000 [==============================] - 2s 106us/step - loss: 0.4510 - acc: 0.7869 - val_loss: 0.4093 - val_acc: 0.8276\n",
      "Epoch 2/10\n",
      "20000/20000 [==============================] - 2s 82us/step - loss: 0.2483 - acc: 0.9073 - val_loss: 0.2705 - val_acc: 0.8954\n",
      "Epoch 3/10\n",
      "20000/20000 [==============================] - 1s 69us/step - loss: 0.1812 - acc: 0.9330 - val_loss: 0.2786 - val_acc: 0.8932\n",
      "Epoch 4/10\n",
      "20000/20000 [==============================] - 1s 71us/step - loss: 0.1401 - acc: 0.9476 - val_loss: 0.3032 - val_acc: 0.8910\n",
      "Epoch 5/10\n",
      "20000/20000 [==============================] - 1s 71us/step - loss: 0.1088 - acc: 0.9597 - val_loss: 0.3414 - val_acc: 0.8852\n",
      "Epoch 6/10\n",
      "20000/20000 [==============================] - 1s 72us/step - loss: 0.0777 - acc: 0.9734 - val_loss: 0.3631 - val_acc: 0.8828\n",
      "Epoch 7/10\n",
      "20000/20000 [==============================] - 1s 70us/step - loss: 0.0524 - acc: 0.9833 - val_loss: 0.4314 - val_acc: 0.8802\n",
      "Epoch 8/10\n",
      "20000/20000 [==============================] - 1s 68us/step - loss: 0.0357 - acc: 0.9899 - val_loss: 0.4648 - val_acc: 0.8818\n",
      "Epoch 9/10\n",
      "20000/20000 [==============================] - 1s 65us/step - loss: 0.0304 - acc: 0.9899 - val_loss: 0.5089 - val_acc: 0.8758\n",
      "Epoch 10/10\n",
      "20000/20000 [==============================] - 2s 80us/step - loss: 0.0300 - acc: 0.9914 - val_loss: 0.5333 - val_acc: 0.8812\n"
     ]
    }
   ],
   "source": [
    "model7 = Sequential()\n",
    "model7.add(Dense(64, activation= \"relu\", input_shape = (10000, )))  # changed to 64 nodes\n",
    "model7.add(Dense(64, activation = \"relu\"))  # changed to 64 nodes\n",
    "model7.add(Dense(1, activation = \"sigmoid\"))\n",
    "\n",
    "model7.compile(optimizer = \"rmsprop\",\n",
    "               loss = 'binary_crossentropy',\n",
    "               metrics = ['accuracy'])\n",
    "\n",
    "history7 = model7.fit(training_input_binary_index, \n",
    "                    training_label, \n",
    "                    epochs = 10, \n",
    "                    batch_size = 512, \n",
    "                    validation_split = 0.2)"
   ]
  },
  {
   "cell_type": "code",
   "execution_count": 57,
   "metadata": {},
   "outputs": [
    {
     "name": "stdout",
     "output_type": "stream",
     "text": [
      "25000/25000 [==============================] - 6s 242us/step\n",
      "['loss', 'acc'] \n",
      " [0.5668231477236748, 0.86592]\n"
     ]
    },
    {
     "data": {
      "image/png": "[encoded data removed]",
      "text/plain": [
       "<Figure size 432x288 with 1 Axes>"
      ]
     },
     "metadata": {},
     "output_type": "display_data"
    }
   ],
   "source": [
    "val_loss = history7.history['val_loss']\n",
    "loss = history7.history['loss']\n",
    "epochs = range(1, len(val_loss)+1)\n",
    "plt.plot(epochs, val_loss, label = \"validation loss\")\n",
    "plt.plot(epochs, loss, label = 'training loss')\n",
    "plt.title(\"Training loss vd Validation loss\")\n",
    "plt.xlabel(\"epochs\")\n",
    "plt.ylabel(\"loss\")\n",
    "plt.legend()\n",
    "\n",
    "val_acc = history7.history[\"val_acc\"]\n",
    "acc = history7.history[\"acc\"]\n",
    "plt.plot(epochs, val_acc, label = \"validation accuracy\")\n",
    "plt.plot(epochs, acc, label = \"training accuracy\")\n",
    "plt.xlabel(\"epochs\")\n",
    "plt.ylabel(\"accuracy\")\n",
    "plt.title(\"Training accuracy vs Validation accuracy\")\n",
    "plt.legend()\n",
    "\n",
    "pred7 = model7.evaluate(test_input_binary_index, test_label)\n",
    "print(model7.metrics_names,\"\\n\",pred7)"
   ]
  },
  {
   "cell_type": "markdown",
   "metadata": {},
   "source": [
    "#### iii) Using MSE as loss function  \n",
    "Let's try MSE as the loss function rather than binary cross entropy"
   ]
  },
  {
   "cell_type": "code",
   "execution_count": 58,
   "metadata": {},
   "outputs": [
    {
     "name": "stdout",
     "output_type": "stream",
     "text": [
      "Train on 20000 samples, validate on 5000 samples\n",
      "Epoch 1/4\n",
      "20000/20000 [==============================] - 2s 80us/step - loss: 0.1568 - acc: 0.8114 - val_loss: 0.1131 - val_acc: 0.8660\n",
      "Epoch 2/4\n",
      "20000/20000 [==============================] - 1s 51us/step - loss: 0.0825 - acc: 0.9103 - val_loss: 0.0863 - val_acc: 0.8926\n",
      "Epoch 3/4\n",
      "20000/20000 [==============================] - 1s 61us/step - loss: 0.0606 - acc: 0.9319 - val_loss: 0.0816 - val_acc: 0.8962\n",
      "Epoch 4/4\n",
      "20000/20000 [==============================] - 1s 48us/step - loss: 0.0488 - acc: 0.9454 - val_loss: 0.0806 - val_acc: 0.8926\n"
     ]
    }
   ],
   "source": [
    "model8 = Sequential()\n",
    "model8.add(Dense(16, activation= \"relu\", input_shape = (10000, )))\n",
    "model8.add(Dense(16, activation = \"relu\"))\n",
    "model8.add(Dense(1, activation = \"sigmoid\"))\n",
    "\n",
    "model8.compile(optimizer = \"rmsprop\",\n",
    "               loss = 'mse',  # changed to mse\n",
    "               metrics = ['accuracy'])\n",
    "\n",
    "history8 = model8.fit(training_input_binary_index, \n",
    "                    training_label, \n",
    "                    epochs = 4, \n",
    "                    batch_size = 512, \n",
    "                    validation_split = 0.2)"
   ]
  },
  {
   "cell_type": "code",
   "execution_count": 59,
   "metadata": {},
   "outputs": [
    {
     "name": "stdout",
     "output_type": "stream",
     "text": [
      "25000/25000 [==============================] - 3s 129us/step\n",
      "['loss', 'acc'] \n",
      " [0.08780018651127815, 0.88132]\n"
     ]
    },
    {
     "data": {
      "image/png": "[encoded data removed]",
      "text/plain": [
       "<Figure size 432x288 with 1 Axes>"
      ]
     },
     "metadata": {},
     "output_type": "display_data"
    }
   ],
   "source": [
    "val_loss = history8.history['val_loss']\n",
    "loss = history8.history['loss']\n",
    "epochs = range(1, len(val_loss)+1)\n",
    "plt.plot(epochs, val_loss, label = \"validation loss\")\n",
    "plt.plot(epochs, loss, label = 'training loss')\n",
    "plt.title(\"Training loss vd Validation loss\")\n",
    "plt.xlabel(\"epochs\")\n",
    "plt.ylabel(\"loss\")\n",
    "plt.legend()\n",
    "\n",
    "val_acc = history8.history[\"val_acc\"]\n",
    "acc = history8.history[\"acc\"]\n",
    "plt.plot(epochs, val_acc, label = \"validation accuracy\")\n",
    "plt.plot(epochs, acc, label = \"training accuracy\")\n",
    "plt.xlabel(\"epochs\")\n",
    "plt.ylabel(\"accuracy\")\n",
    "plt.title(\"Training accuracy vs Validation accuracy\")\n",
    "plt.legend()\n",
    "\n",
    "pred8 = model8.evaluate(test_input_binary_index, test_label)\n",
    "print(model8.metrics_names,\"\\n\",pred8)"
   ]
  },
  {
   "cell_type": "markdown",
   "metadata": {},
   "source": [
    "#### iv) Using a different activation function  \n",
    "Replace Relu activation function with tanh activation."
   ]
  },
  {
   "cell_type": "code",
   "execution_count": 60,
   "metadata": {},
   "outputs": [
    {
     "name": "stdout",
     "output_type": "stream",
     "text": [
      "Train on 20000 samples, validate on 5000 samples\n",
      "Epoch 1/10\n",
      "20000/20000 [==============================] - 2s 84us/step - loss: 0.4633 - acc: 0.8235 - val_loss: 0.3641 - val_acc: 0.8602\n",
      "Epoch 2/10\n",
      "20000/20000 [==============================] - 1s 50us/step - loss: 0.2603 - acc: 0.9105 - val_loss: 0.2834 - val_acc: 0.8890\n",
      "Epoch 3/10\n",
      "20000/20000 [==============================] - 1s 49us/step - loss: 0.1884 - acc: 0.9329 - val_loss: 0.2720 - val_acc: 0.8938\n",
      "Epoch 4/10\n",
      "20000/20000 [==============================] - 1s 60us/step - loss: 0.1503 - acc: 0.9471 - val_loss: 0.2879 - val_acc: 0.8918\n",
      "Epoch 5/10\n",
      "20000/20000 [==============================] - 1s 48us/step - loss: 0.1245 - acc: 0.9571 - val_loss: 0.3210 - val_acc: 0.8854\n",
      "Epoch 6/10\n",
      "20000/20000 [==============================] - 1s 50us/step - loss: 0.1013 - acc: 0.9666 - val_loss: 0.3629 - val_acc: 0.8808\n",
      "Epoch 7/10\n",
      "20000/20000 [==============================] - 1s 49us/step - loss: 0.0838 - acc: 0.9740 - val_loss: 0.3820 - val_acc: 0.8804\n",
      "Epoch 8/10\n",
      "20000/20000 [==============================] - 1s 49us/step - loss: 0.0710 - acc: 0.9791 - val_loss: 0.4545 - val_acc: 0.8728\n",
      "Epoch 9/10\n",
      "20000/20000 [==============================] - 1s 47us/step - loss: 0.0662 - acc: 0.9799 - val_loss: 0.4536 - val_acc: 0.8736\n",
      "Epoch 10/10\n",
      "20000/20000 [==============================] - 1s 61us/step - loss: 0.0544 - acc: 0.9830 - val_loss: 0.4897 - val_acc: 0.8716\n"
     ]
    }
   ],
   "source": [
    "model9 = Sequential()\n",
    "model9.add(Dense(16, activation= \"tanh\", input_shape = (10000, )))  # changed to tanh\n",
    "model9.add(Dense(16, activation = \"tanh\"))  # changed to tanh\n",
    "model9.add(Dense(1, activation = \"sigmoid\"))\n",
    "\n",
    "model9.compile(optimizer = \"rmsprop\",\n",
    "               loss = 'binary_crossentropy',\n",
    "               metrics = ['accuracy'])\n",
    "\n",
    "history9 = model9.fit(training_input_binary_index, \n",
    "                    training_label, \n",
    "                    epochs = 10, \n",
    "                    batch_size = 512, \n",
    "                    validation_split = 0.2)"
   ]
  },
  {
   "cell_type": "code",
   "execution_count": 61,
   "metadata": {},
   "outputs": [
    {
     "name": "stdout",
     "output_type": "stream",
     "text": [
      "25000/25000 [==============================] - 4s 148us/step\n",
      "['loss', 'acc'] \n",
      " [0.5486943539500236, 0.85472]\n"
     ]
    },
    {
     "data": {
      "image/png": "[encoded data removed]",
      "text/plain": [
       "<Figure size 432x288 with 1 Axes>"
      ]
     },
     "metadata": {},
     "output_type": "display_data"
    }
   ],
   "source": [
    "val_loss = history9.history['val_loss']\n",
    "loss = history9.history['loss']\n",
    "epochs = range(1, len(val_loss)+1)\n",
    "plt.plot(epochs, val_loss, label = \"validation loss\")\n",
    "plt.plot(epochs, loss, label = 'training loss')\n",
    "plt.title(\"Training loss vd Validation loss\")\n",
    "plt.xlabel(\"epochs\")\n",
    "plt.ylabel(\"loss\")\n",
    "plt.legend()\n",
    "\n",
    "val_acc = history9.history[\"val_acc\"]\n",
    "acc = history9.history[\"acc\"]\n",
    "plt.plot(epochs, val_acc, label = \"validation accuracy\")\n",
    "plt.plot(epochs, acc, label = \"training accuracy\")\n",
    "plt.xlabel(\"epochs\")\n",
    "plt.ylabel(\"accuracy\")\n",
    "plt.title(\"Training accuracy vs Validation accuracy\")\n",
    "plt.legend()\n",
    "\n",
    "pred9 = model9.evaluate(test_input_binary_index, test_label)\n",
    "print(model9.metrics_names,\"\\n\",pred9)"
   ]
  },
  {
   "cell_type": "code",
   "execution_count": 80,
   "metadata": {},
   "outputs": [
    {
     "data": {
      "text/plain": [
       "<matplotlib.axes._subplots.AxesSubplot at 0x7f94b5611d30>"
      ]
     },
     "execution_count": 80,
     "metadata": {},
     "output_type": "execute_result"
    },
    {
     "data": {
      "image/png": "[encoded data removed]",
      "text/plain": [
       "<Figure size 1152x288 with 1 Axes>"
      ]
     },
     "metadata": {},
     "output_type": "display_data"
    }
   ],
   "source": [
    "import pandas as pd\n",
    "\n",
    "df = pd.DataFrame(index = [\"Model 1\",\"Model 6\", \n",
    "                           \"Model 7\", \"Model 8\", \n",
    "                           \"Model 9\"],\n",
    "                  data = {\"Loss\": [pred1[0],pred6[0],pred7[0],pred8[0],pred9[0]],\n",
    "                         \"Accuracy\": [pred1[1],pred6[1],pred7[1],pred8[1],pred9[1]]})\n",
    "\n",
    "color = ['0.2','0.7']\n",
    "df.plot(kind = 'bar', color = color, \n",
    "        figsize = (16,4), \n",
    "        title = \"Comparing Loss and Accuracy of Model 1 variants\")"
   ]
  },
  {
   "cell_type": "markdown",
   "metadata": {},
   "source": [
    "We will see that Model 6,7 and 9 have comparable accuracy but higher loss as they overfitted more quickly, when compared to Model 1.   \n",
    "  \n",
    "Loss incurred by Model 8 makes for difficult direct comparison, as Model 8 and Model 1 essentially have the same model configuration but are trained towards different objective functions, the former MSE while the latter binary cross-entropy. Both achieved high accuracy. \n"
   ]
  },
  {
   "cell_type": "markdown",
   "metadata": {},
   "source": [
    "\n",
    "## Adding Regularization  \n",
    "  \n",
    "  \n",
    "Let's focus on Model 1 and add regularization to it, so that it can be trained for longer periods without overfitting. We can see that L2 regularization, as used in Model 10, and Dropout, as used in Model 11 allow training to extend for more epochs."
   ]
  },
  {
   "cell_type": "markdown",
   "metadata": {},
   "source": [
    "### L2 Regularization"
   ]
  },
  {
   "cell_type": "code",
   "execution_count": 63,
   "metadata": {},
   "outputs": [
    {
     "name": "stdout",
     "output_type": "stream",
     "text": [
      "_________________________________________________________________\n",
      "Layer (type)                 Output Shape              Param #   \n",
      "=================================================================\n",
      "dense_30 (Dense)             (None, 16)                160016    \n",
      "_________________________________________________________________\n",
      "dense_31 (Dense)             (None, 16)                272       \n",
      "_________________________________________________________________\n",
      "dense_32 (Dense)             (None, 1)                 17        \n",
      "=================================================================\n",
      "Total params: 160,305\n",
      "Trainable params: 160,305\n",
      "Non-trainable params: 0\n",
      "_________________________________________________________________\n",
      "Train on 20000 samples, validate on 5000 samples\n",
      "Epoch 1/30\n",
      "20000/20000 [==============================] - 2s 83us/step - loss: 0.6433 - acc: 0.7901 - val_loss: 0.4998 - val_acc: 0.8690\n",
      "Epoch 2/30\n",
      "20000/20000 [==============================] - 1s 54us/step - loss: 0.4447 - acc: 0.8895 - val_loss: 0.4424 - val_acc: 0.8764\n",
      "Epoch 3/30\n",
      "20000/20000 [==============================] - 1s 57us/step - loss: 0.3898 - acc: 0.9025 - val_loss: 0.4173 - val_acc: 0.8814\n",
      "Epoch 4/30\n",
      "20000/20000 [==============================] - 1s 58us/step - loss: 0.3617 - acc: 0.9098 - val_loss: 0.3944 - val_acc: 0.8862\n",
      "Epoch 5/30\n",
      "20000/20000 [==============================] - 1s 56us/step - loss: 0.3444 - acc: 0.9137 - val_loss: 0.3895 - val_acc: 0.8862\n",
      "Epoch 6/30\n",
      "20000/20000 [==============================] - 1s 57us/step - loss: 0.3359 - acc: 0.9145 - val_loss: 0.3847 - val_acc: 0.8872\n",
      "Epoch 7/30\n",
      "20000/20000 [==============================] - 1s 56us/step - loss: 0.3274 - acc: 0.9174 - val_loss: 0.4131 - val_acc: 0.8732\n",
      "Epoch 8/30\n",
      "20000/20000 [==============================] - 1s 60us/step - loss: 0.3214 - acc: 0.9203 - val_loss: 0.4031 - val_acc: 0.8760\n",
      "Epoch 9/30\n",
      "20000/20000 [==============================] - 1s 57us/step - loss: 0.3147 - acc: 0.9222 - val_loss: 0.3947 - val_acc: 0.8820\n",
      "Epoch 10/30\n",
      "20000/20000 [==============================] - 1s 57us/step - loss: 0.3065 - acc: 0.9234 - val_loss: 0.3816 - val_acc: 0.8834\n",
      "Epoch 11/30\n",
      "20000/20000 [==============================] - 1s 61us/step - loss: 0.3077 - acc: 0.9216 - val_loss: 0.4016 - val_acc: 0.8782\n",
      "Epoch 12/30\n",
      "20000/20000 [==============================] - 1s 57us/step - loss: 0.3005 - acc: 0.9258 - val_loss: 0.3793 - val_acc: 0.8850\n",
      "Epoch 13/30\n",
      "20000/20000 [==============================] - 1s 56us/step - loss: 0.2985 - acc: 0.9259 - val_loss: 0.4401 - val_acc: 0.8620\n",
      "Epoch 14/30\n",
      "20000/20000 [==============================] - 1s 59us/step - loss: 0.2933 - acc: 0.9271 - val_loss: 0.3778 - val_acc: 0.8838\n",
      "Epoch 15/30\n",
      "20000/20000 [==============================] - 1s 56us/step - loss: 0.2951 - acc: 0.9254 - val_loss: 0.3772 - val_acc: 0.8864\n",
      "Epoch 16/30\n",
      "20000/20000 [==============================] - 1s 59us/step - loss: 0.2924 - acc: 0.9269 - val_loss: 0.4066 - val_acc: 0.8758\n",
      "Epoch 17/30\n",
      "20000/20000 [==============================] - 1s 54us/step - loss: 0.2894 - acc: 0.9270 - val_loss: 0.3874 - val_acc: 0.8818\n",
      "Epoch 18/30\n",
      "20000/20000 [==============================] - 1s 61us/step - loss: 0.2843 - acc: 0.9297 - val_loss: 0.3997 - val_acc: 0.8750\n",
      "Epoch 19/30\n",
      "20000/20000 [==============================] - 1s 54us/step - loss: 0.2872 - acc: 0.9261 - val_loss: 0.3857 - val_acc: 0.8806\n",
      "Epoch 20/30\n",
      "20000/20000 [==============================] - ETA: 0s - loss: 0.2798 - acc: 0.933 - 1s 58us/step - loss: 0.2798 - acc: 0.9335 - val_loss: 0.3995 - val_acc: 0.8798\n",
      "Epoch 21/30\n",
      "20000/20000 [==============================] - 1s 58us/step - loss: 0.2836 - acc: 0.9274 - val_loss: 0.3754 - val_acc: 0.8850\n",
      "Epoch 22/30\n",
      "20000/20000 [==============================] - 1s 55us/step - loss: 0.2744 - acc: 0.9338 - val_loss: 0.3782 - val_acc: 0.8838\n",
      "Epoch 23/30\n",
      "20000/20000 [==============================] - 1s 55us/step - loss: 0.2774 - acc: 0.9311 - val_loss: 0.3999 - val_acc: 0.8788\n",
      "Epoch 24/30\n",
      "20000/20000 [==============================] - 1s 57us/step - loss: 0.2675 - acc: 0.9361 - val_loss: 0.3827 - val_acc: 0.8854\n",
      "Epoch 25/30\n",
      "20000/20000 [==============================] - 1s 58us/step - loss: 0.2750 - acc: 0.9308 - val_loss: 0.3816 - val_acc: 0.8834\n",
      "Epoch 26/30\n",
      "20000/20000 [==============================] - 1s 57us/step - loss: 0.2673 - acc: 0.9360 - val_loss: 0.4420 - val_acc: 0.8646\n",
      "Epoch 27/30\n",
      "20000/20000 [==============================] - 1s 60us/step - loss: 0.2675 - acc: 0.9344 - val_loss: 0.3788 - val_acc: 0.8840\n",
      "Epoch 28/30\n",
      "20000/20000 [==============================] - 1s 56us/step - loss: 0.2634 - acc: 0.9370 - val_loss: 0.5199 - val_acc: 0.8256\n",
      "Epoch 29/30\n",
      "20000/20000 [==============================] - 1s 54us/step - loss: 0.2652 - acc: 0.9347 - val_loss: 0.3897 - val_acc: 0.8772\n",
      "Epoch 30/30\n",
      "20000/20000 [==============================] - 1s 58us/step - loss: 0.2615 - acc: 0.9357 - val_loss: 0.3810 - val_acc: 0.8806\n"
     ]
    }
   ],
   "source": [
    "from keras import regularizers\n",
    "\n",
    "model10 = Sequential()\n",
    "model10.add(Dense(16, activation= \"relu\", \n",
    "            kernel_regularizer = regularizers.l2(0.005),\n",
    "            input_shape = (10000, )))\n",
    "model10.add(Dense(16, activation = \"relu\",\n",
    "            kernel_regularizer = regularizers.l2(0.005),))\n",
    "model10.add(Dense(1, activation = \"sigmoid\"))\n",
    "model10.summary()\n",
    "\n",
    "model10.compile(optimizer = \"rmsprop\",\n",
    "               loss = 'binary_crossentropy',\n",
    "               metrics = ['accuracy'])\n",
    "\n",
    "\n",
    "history10 = model10.fit(training_input_binary_index, \n",
    "                    training_label, \n",
    "                    epochs = 30, \n",
    "                    batch_size = 512, \n",
    "                    validation_split = 0.2)"
   ]
  },
  {
   "cell_type": "code",
   "execution_count": 64,
   "metadata": {},
   "outputs": [
    {
     "data": {
      "text/plain": [
       "<matplotlib.legend.Legend at 0x7f94b5e69f28>"
      ]
     },
     "execution_count": 64,
     "metadata": {},
     "output_type": "execute_result"
    },
    {
     "data": {
      "image/png": "[encoded data removed]",
      "text/plain": [
       "<Figure size 432x288 with 1 Axes>"
      ]
     },
     "metadata": {},
     "output_type": "display_data"
    }
   ],
   "source": [
    "val_loss = history10.history['val_loss']\n",
    "loss = history10.history['loss']\n",
    "epochs = range(1, len(val_loss)+1)\n",
    "plt.plot(epochs, val_loss, label = \"validation loss\")\n",
    "plt.plot(epochs, loss, label = 'training loss')\n",
    "plt.title(\"Training loss vd Validation loss\")\n",
    "plt.xlabel(\"epochs\")\n",
    "plt.ylabel(\"loss\")\n",
    "plt.legend()"
   ]
  },
  {
   "cell_type": "code",
   "execution_count": 65,
   "metadata": {},
   "outputs": [
    {
     "data": {
      "text/plain": [
       "<matplotlib.legend.Legend at 0x7f94b5e98da0>"
      ]
     },
     "execution_count": 65,
     "metadata": {},
     "output_type": "execute_result"
    },
    {
     "data": {
      "image/png": "[encoded data removed]",
      "text/plain": [
       "<Figure size 432x288 with 1 Axes>"
      ]
     },
     "metadata": {},
     "output_type": "display_data"
    }
   ],
   "source": [
    "val_acc = history10.history[\"val_acc\"]\n",
    "acc = history10.history[\"acc\"]\n",
    "plt.plot(epochs, val_acc, label = \"validation accuracy\")\n",
    "plt.plot(epochs, acc, label = \"training accuracy\")\n",
    "plt.xlabel(\"epochs\")\n",
    "plt.ylabel(\"accuracy\")\n",
    "plt.title(\"Training accuracy vs Validation accuracy\")\n",
    "plt.legend()"
   ]
  },
  {
   "cell_type": "code",
   "execution_count": 66,
   "metadata": {},
   "outputs": [
    {
     "name": "stdout",
     "output_type": "stream",
     "text": [
      "25000/25000 [==============================] - 2s 69us/step\n",
      "['loss', 'acc'] \n",
      " [0.3969616022872925, 0.8768]\n"
     ]
    }
   ],
   "source": [
    "pred10 = model10.evaluate(test_input_binary_index, test_label)\n",
    "print(model10.metrics_names,\"\\n\",pred10)"
   ]
  },
  {
   "cell_type": "markdown",
   "metadata": {},
   "source": [
    "### Dropout"
   ]
  },
  {
   "cell_type": "code",
   "execution_count": 67,
   "metadata": {},
   "outputs": [
    {
     "name": "stdout",
     "output_type": "stream",
     "text": [
      "_________________________________________________________________\n",
      "Layer (type)                 Output Shape              Param #   \n",
      "=================================================================\n",
      "dense_33 (Dense)             (None, 16)                160016    \n",
      "_________________________________________________________________\n",
      "dropout_1 (Dropout)          (None, 16)                0         \n",
      "_________________________________________________________________\n",
      "dense_34 (Dense)             (None, 16)                272       \n",
      "_________________________________________________________________\n",
      "dropout_2 (Dropout)          (None, 16)                0         \n",
      "_________________________________________________________________\n",
      "dense_35 (Dense)             (None, 1)                 17        \n",
      "=================================================================\n",
      "Total params: 160,305\n",
      "Trainable params: 160,305\n",
      "Non-trainable params: 0\n",
      "_________________________________________________________________\n",
      "Train on 20000 samples, validate on 5000 samples\n",
      "Epoch 1/20\n",
      "20000/20000 [==============================] - 2s 86us/step - loss: 0.6657 - acc: 0.5711 - val_loss: 0.5617 - val_acc: 0.8406\n",
      "Epoch 2/20\n",
      "20000/20000 [==============================] - 1s 48us/step - loss: 0.5963 - acc: 0.6600 - val_loss: 0.4466 - val_acc: 0.8654\n",
      "Epoch 3/20\n",
      "20000/20000 [==============================] - 1s 53us/step - loss: 0.5340 - acc: 0.7166 - val_loss: 0.3870 - val_acc: 0.8782\n",
      "Epoch 4/20\n",
      "20000/20000 [==============================] - 1s 56us/step - loss: 0.4867 - acc: 0.7560 - val_loss: 0.3362 - val_acc: 0.8858\n",
      "Epoch 5/20\n",
      "20000/20000 [==============================] - 1s 55us/step - loss: 0.4371 - acc: 0.7876 - val_loss: 0.3093 - val_acc: 0.8844\n",
      "Epoch 6/20\n",
      "20000/20000 [==============================] - 1s 51us/step - loss: 0.4022 - acc: 0.8135 - val_loss: 0.2843 - val_acc: 0.8922\n",
      "Epoch 7/20\n",
      "20000/20000 [==============================] - 1s 44us/step - loss: 0.3735 - acc: 0.8287 - val_loss: 0.2822 - val_acc: 0.8924\n",
      "Epoch 8/20\n",
      "20000/20000 [==============================] - 1s 43us/step - loss: 0.3580 - acc: 0.8392 - val_loss: 0.2787 - val_acc: 0.8920\n",
      "Epoch 9/20\n",
      "20000/20000 [==============================] - 1s 50us/step - loss: 0.3434 - acc: 0.8502 - val_loss: 0.2814 - val_acc: 0.8928\n",
      "Epoch 10/20\n",
      "20000/20000 [==============================] - 1s 48us/step - loss: 0.3194 - acc: 0.8650 - val_loss: 0.2960 - val_acc: 0.8928\n",
      "Epoch 11/20\n",
      "20000/20000 [==============================] - 1s 49us/step - loss: 0.3148 - acc: 0.8624 - val_loss: 0.2924 - val_acc: 0.8970\n",
      "Epoch 12/20\n",
      "20000/20000 [==============================] - 1s 51us/step - loss: 0.3083 - acc: 0.8699 - val_loss: 0.2987 - val_acc: 0.8956\n",
      "Epoch 13/20\n",
      "20000/20000 [==============================] - 1s 41us/step - loss: 0.2921 - acc: 0.8742 - val_loss: 0.3090 - val_acc: 0.8972\n",
      "Epoch 14/20\n",
      "20000/20000 [==============================] - 1s 42us/step - loss: 0.2956 - acc: 0.8778 - val_loss: 0.3140 - val_acc: 0.8968\n",
      "Epoch 15/20\n",
      "20000/20000 [==============================] - 1s 43us/step - loss: 0.2869 - acc: 0.8801 - val_loss: 0.3372 - val_acc: 0.8950\n",
      "Epoch 16/20\n",
      "20000/20000 [==============================] - 1s 42us/step - loss: 0.2799 - acc: 0.8855 - val_loss: 0.3332 - val_acc: 0.8934\n",
      "Epoch 17/20\n",
      "20000/20000 [==============================] - 1s 44us/step - loss: 0.2722 - acc: 0.8867 - val_loss: 0.3551 - val_acc: 0.8938\n",
      "Epoch 18/20\n",
      "20000/20000 [==============================] - 1s 40us/step - loss: 0.2720 - acc: 0.8887 - val_loss: 0.3729 - val_acc: 0.8912\n",
      "Epoch 19/20\n",
      "20000/20000 [==============================] - 1s 41us/step - loss: 0.2649 - acc: 0.8914 - val_loss: 0.3758 - val_acc: 0.8944\n",
      "Epoch 20/20\n",
      "20000/20000 [==============================] - 1s 39us/step - loss: 0.2691 - acc: 0.8899 - val_loss: 0.3862 - val_acc: 0.8910\n"
     ]
    }
   ],
   "source": [
    "from keras.layers import Dropout\n",
    "\n",
    "model11 = Sequential()\n",
    "model11.add(Dense(16, activation= \"relu\", input_shape = (10000, )))\n",
    "model11.add(Dropout(0.7))\n",
    "model11.add(Dense(16, activation = \"relu\"))\n",
    "model11.add(Dropout(0.7))  \n",
    "model11.add(Dense(1, activation = \"sigmoid\"))\n",
    "model11.summary()\n",
    "\n",
    "\n",
    "model11.compile(optimizer = \"rmsprop\",\n",
    "               loss = 'binary_crossentropy',\n",
    "               metrics = ['accuracy'])\n",
    "\n",
    "\n",
    "history11 = model11.fit(training_input_binary_index, \n",
    "                    training_label, \n",
    "                    epochs = 20, \n",
    "                    batch_size = 512, \n",
    "                    validation_split = 0.2)"
   ]
  },
  {
   "cell_type": "code",
   "execution_count": 68,
   "metadata": {},
   "outputs": [
    {
     "data": {
      "text/plain": [
       "<matplotlib.legend.Legend at 0x7f94b5b65518>"
      ]
     },
     "execution_count": 68,
     "metadata": {},
     "output_type": "execute_result"
    },
    {
     "data": {
      "image/png": "[encoded data removed]",
      "text/plain": [
       "<Figure size 432x288 with 1 Axes>"
      ]
     },
     "metadata": {},
     "output_type": "display_data"
    }
   ],
   "source": [
    "val_loss = history11.history['val_loss']\n",
    "loss = history11.history['loss']\n",
    "epochs = range(1, len(val_loss)+1)\n",
    "plt.plot(epochs, val_loss, label = \"validation loss\")\n",
    "plt.plot(epochs, loss, label = 'training loss')\n",
    "plt.title(\"Training loss vd Validation loss\")\n",
    "plt.xlabel(\"epochs\")\n",
    "plt.ylabel(\"loss\")\n",
    "plt.legend()"
   ]
  },
  {
   "cell_type": "code",
   "execution_count": 69,
   "metadata": {},
   "outputs": [
    {
     "data": {
      "text/plain": [
       "<matplotlib.legend.Legend at 0x7f94b63b0c18>"
      ]
     },
     "execution_count": 69,
     "metadata": {},
     "output_type": "execute_result"
    },
    {
     "data": {
      "image/png": "[encoded data removed]",
      "text/plain": [
       "<Figure size 432x288 with 1 Axes>"
      ]
     },
     "metadata": {},
     "output_type": "display_data"
    }
   ],
   "source": [
    "val_acc = history11.history[\"val_acc\"]\n",
    "acc = history11.history[\"acc\"]\n",
    "plt.plot(epochs, val_acc, label = \"validation accuracy\")\n",
    "plt.plot(epochs, acc, label = \"training accuracy\")\n",
    "plt.xlabel(\"epochs\")\n",
    "plt.ylabel(\"accuracy\")\n",
    "plt.title(\"Training accuracy vs Validation accuracy\")\n",
    "plt.legend()"
   ]
  },
  {
   "cell_type": "code",
   "execution_count": 70,
   "metadata": {},
   "outputs": [
    {
     "name": "stdout",
     "output_type": "stream",
     "text": [
      "25000/25000 [==============================] - 4s 173us/step\n",
      "['loss', 'acc'] \n",
      " [0.4056386887574196, 0.87776]\n"
     ]
    }
   ],
   "source": [
    "pred11 = model11.evaluate(test_input_binary_index, test_label)\n",
    "print(model11.metrics_names,\"\\n\",pred11)"
   ]
  },
  {
   "cell_type": "markdown",
   "metadata": {},
   "source": [
    "Reference:\n",
    "\n",
    "1) Deep Learning with Python - Francois Chollet"
   ]
  }
 ],
 "metadata": {
  "kernelspec": {
   "display_name": "Python [conda env:tensorflowenv]",
   "language": "python",
   "name": "conda-env-tensorflowenv-py"
  },
  "language_info": {
   "codemirror_mode": {
    "name": "ipython",
    "version": 3
   },
   "file_extension": ".py",
   "mimetype": "text/x-python",
   "name": "python",
   "nbconvert_exporter": "python",
   "pygments_lexer": "ipython3",
   "version": "3.6.5"
  }
 },
 "nbformat": 4,
 "nbformat_minor": 2
}
